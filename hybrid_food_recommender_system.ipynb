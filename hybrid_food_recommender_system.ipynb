{
  "cells": [
    {
      "cell_type": "markdown",
      "id": "4570320d-3524-4a22-a5df-23246e6abb02",
      "metadata": {
        "id": "4570320d-3524-4a22-a5df-23246e6abb02"
      },
      "source": [
        "##### Preparing the Data"
      ]
    },
    {
      "cell_type": "code",
      "source": [
        "from google.colab import drive\n",
        "drive.mount('/content/drive')"
      ],
      "metadata": {
        "id": "chjXCkzlmv58",
        "colab": {
          "base_uri": "https://localhost:8080/"
        },
        "outputId": "9a4e34ff-114d-4c71-fb46-ab1311ab41ad"
      },
      "id": "chjXCkzlmv58",
      "execution_count": 1,
      "outputs": [
        {
          "output_type": "stream",
          "name": "stdout",
          "text": [
            "Drive already mounted at /content/drive; to attempt to forcibly remount, call drive.mount(\"/content/drive\", force_remount=True).\n"
          ]
        }
      ]
    },
    {
      "cell_type": "code",
      "execution_count": 2,
      "id": "a0f5715c-4e67-4ec3-a028-bdc29aaf21dc",
      "metadata": {
        "id": "a0f5715c-4e67-4ec3-a028-bdc29aaf21dc"
      },
      "outputs": [],
      "source": [
        "import torch\n",
        "import numpy as np\n",
        "import pandas as pd\n",
        "import matplotlib.pyplot as plt\n",
        "import itertools\n",
        "from torch.utils.data import Dataset, DataLoader\n",
        "from sklearn.preprocessing import LabelEncoder\n",
        "from tqdm import tqdm"
      ]
    },
    {
      "cell_type": "code",
      "execution_count": 3,
      "id": "5eca06fa-a86c-45eb-8be6-05bea57e714a",
      "metadata": {
        "id": "5eca06fa-a86c-45eb-8be6-05bea57e714a"
      },
      "outputs": [],
      "source": [
        "reviews_df = pd.read_csv('/content/drive/MyDrive/Rec. Sys/reviews.csv')\n",
        "recipes_df = pd.read_csv('/content/drive/MyDrive/Rec. Sys/recipes.csv')"
      ]
    },
    {
      "cell_type": "code",
      "execution_count": 4,
      "id": "cf664b86-c263-4277-bd91-e753e28d6554",
      "metadata": {
        "id": "cf664b86-c263-4277-bd91-e753e28d6554",
        "outputId": "5d688121-2d86-4af9-b799-7bca246c324e",
        "colab": {
          "base_uri": "https://localhost:8080/"
        }
      },
      "outputs": [
        {
          "output_type": "stream",
          "name": "stdout",
          "text": [
            "<class 'pandas.core.frame.DataFrame'>\n",
            "RangeIndex: 522517 entries, 0 to 522516\n",
            "Data columns (total 28 columns):\n",
            " #   Column                      Non-Null Count   Dtype  \n",
            "---  ------                      --------------   -----  \n",
            " 0   RecipeId                    522517 non-null  int64  \n",
            " 1   Name                        522517 non-null  object \n",
            " 2   AuthorId                    522517 non-null  int64  \n",
            " 3   AuthorName                  522517 non-null  object \n",
            " 4   CookTime                    439972 non-null  object \n",
            " 5   PrepTime                    522517 non-null  object \n",
            " 6   TotalTime                   522517 non-null  object \n",
            " 7   DatePublished               522517 non-null  object \n",
            " 8   Description                 522512 non-null  object \n",
            " 9   Images                      522516 non-null  object \n",
            " 10  RecipeCategory              521766 non-null  object \n",
            " 11  Keywords                    505280 non-null  object \n",
            " 12  RecipeIngredientQuantities  522514 non-null  object \n",
            " 13  RecipeIngredientParts       522517 non-null  object \n",
            " 14  AggregatedRating            269294 non-null  float64\n",
            " 15  ReviewCount                 275028 non-null  float64\n",
            " 16  Calories                    522517 non-null  float64\n",
            " 17  FatContent                  522517 non-null  float64\n",
            " 18  SaturatedFatContent         522517 non-null  float64\n",
            " 19  CholesterolContent          522517 non-null  float64\n",
            " 20  SodiumContent               522517 non-null  float64\n",
            " 21  CarbohydrateContent         522517 non-null  float64\n",
            " 22  FiberContent                522517 non-null  float64\n",
            " 23  SugarContent                522517 non-null  float64\n",
            " 24  ProteinContent              522517 non-null  float64\n",
            " 25  RecipeServings              339606 non-null  float64\n",
            " 26  RecipeYield                 174446 non-null  object \n",
            " 27  RecipeInstructions          522517 non-null  object \n",
            "dtypes: float64(12), int64(2), object(14)\n",
            "memory usage: 111.6+ MB\n"
          ]
        }
      ],
      "source": [
        "recipes_df.info()"
      ]
    },
    {
      "cell_type": "code",
      "execution_count": 5,
      "id": "45ef2fb7-71a5-4d14-a0d8-28abbd32265d",
      "metadata": {
        "id": "45ef2fb7-71a5-4d14-a0d8-28abbd32265d",
        "outputId": "5eac88fc-feb0-4e7f-fc98-21b748fe5bd9",
        "colab": {
          "base_uri": "https://localhost:8080/",
          "height": 241
        }
      },
      "outputs": [
        {
          "output_type": "execute_result",
          "data": {
            "text/plain": [
              "0    Frozen Desserts\n",
              "1     Chicken Breast\n",
              "2          Beverages\n",
              "3           Soy/Tofu\n",
              "4          Vegetable\n",
              "Name: RecipeCategory, dtype: object"
            ],
            "text/html": [
              "<div>\n",
              "<style scoped>\n",
              "    .dataframe tbody tr th:only-of-type {\n",
              "        vertical-align: middle;\n",
              "    }\n",
              "\n",
              "    .dataframe tbody tr th {\n",
              "        vertical-align: top;\n",
              "    }\n",
              "\n",
              "    .dataframe thead th {\n",
              "        text-align: right;\n",
              "    }\n",
              "</style>\n",
              "<table border=\"1\" class=\"dataframe\">\n",
              "  <thead>\n",
              "    <tr style=\"text-align: right;\">\n",
              "      <th></th>\n",
              "      <th>RecipeCategory</th>\n",
              "    </tr>\n",
              "  </thead>\n",
              "  <tbody>\n",
              "    <tr>\n",
              "      <th>0</th>\n",
              "      <td>Frozen Desserts</td>\n",
              "    </tr>\n",
              "    <tr>\n",
              "      <th>1</th>\n",
              "      <td>Chicken Breast</td>\n",
              "    </tr>\n",
              "    <tr>\n",
              "      <th>2</th>\n",
              "      <td>Beverages</td>\n",
              "    </tr>\n",
              "    <tr>\n",
              "      <th>3</th>\n",
              "      <td>Soy/Tofu</td>\n",
              "    </tr>\n",
              "    <tr>\n",
              "      <th>4</th>\n",
              "      <td>Vegetable</td>\n",
              "    </tr>\n",
              "  </tbody>\n",
              "</table>\n",
              "</div><br><label><b>dtype:</b> object</label>"
            ]
          },
          "metadata": {},
          "execution_count": 5
        }
      ],
      "source": [
        "recipes_df['RecipeCategory'].head()"
      ]
    },
    {
      "cell_type": "code",
      "execution_count": 6,
      "id": "d3b3c242-c3fd-4cc0-baed-f917a7972cbd",
      "metadata": {
        "id": "d3b3c242-c3fd-4cc0-baed-f917a7972cbd",
        "outputId": "10c9f8a8-5458-463d-f554-5503bc1ea9a9",
        "colab": {
          "base_uri": "https://localhost:8080/",
          "height": 241
        }
      },
      "outputs": [
        {
          "output_type": "execute_result",
          "data": {
            "text/plain": [
              "0    c(\"Dessert\", \"Low Protein\", \"Low Cholesterol\",...\n",
              "1    c(\"Chicken Thigh & Leg\", \"Chicken\", \"Poultry\",...\n",
              "2    c(\"Low Protein\", \"Low Cholesterol\", \"Healthy\",...\n",
              "3    c(\"Beans\", \"Vegetable\", \"Low Cholesterol\", \"We...\n",
              "4    c(\"Low Protein\", \"Vegan\", \"Low Cholesterol\", \"...\n",
              "Name: Keywords, dtype: object"
            ],
            "text/html": [
              "<div>\n",
              "<style scoped>\n",
              "    .dataframe tbody tr th:only-of-type {\n",
              "        vertical-align: middle;\n",
              "    }\n",
              "\n",
              "    .dataframe tbody tr th {\n",
              "        vertical-align: top;\n",
              "    }\n",
              "\n",
              "    .dataframe thead th {\n",
              "        text-align: right;\n",
              "    }\n",
              "</style>\n",
              "<table border=\"1\" class=\"dataframe\">\n",
              "  <thead>\n",
              "    <tr style=\"text-align: right;\">\n",
              "      <th></th>\n",
              "      <th>Keywords</th>\n",
              "    </tr>\n",
              "  </thead>\n",
              "  <tbody>\n",
              "    <tr>\n",
              "      <th>0</th>\n",
              "      <td>c(\"Dessert\", \"Low Protein\", \"Low Cholesterol\",...</td>\n",
              "    </tr>\n",
              "    <tr>\n",
              "      <th>1</th>\n",
              "      <td>c(\"Chicken Thigh &amp; Leg\", \"Chicken\", \"Poultry\",...</td>\n",
              "    </tr>\n",
              "    <tr>\n",
              "      <th>2</th>\n",
              "      <td>c(\"Low Protein\", \"Low Cholesterol\", \"Healthy\",...</td>\n",
              "    </tr>\n",
              "    <tr>\n",
              "      <th>3</th>\n",
              "      <td>c(\"Beans\", \"Vegetable\", \"Low Cholesterol\", \"We...</td>\n",
              "    </tr>\n",
              "    <tr>\n",
              "      <th>4</th>\n",
              "      <td>c(\"Low Protein\", \"Vegan\", \"Low Cholesterol\", \"...</td>\n",
              "    </tr>\n",
              "  </tbody>\n",
              "</table>\n",
              "</div><br><label><b>dtype:</b> object</label>"
            ]
          },
          "metadata": {},
          "execution_count": 6
        }
      ],
      "source": [
        "recipes_df['Keywords'].head()"
      ]
    },
    {
      "cell_type": "code",
      "execution_count": 7,
      "id": "22cce396-6a02-41d5-9cc7-e491e6a1d3f3",
      "metadata": {
        "id": "22cce396-6a02-41d5-9cc7-e491e6a1d3f3",
        "outputId": "b536fcd9-54f2-4804-fcbc-c2eb39e1491e",
        "colab": {
          "base_uri": "https://localhost:8080/"
        }
      },
      "outputs": [
        {
          "output_type": "stream",
          "name": "stdout",
          "text": [
            "<class 'pandas.core.frame.DataFrame'>\n",
            "RangeIndex: 1401982 entries, 0 to 1401981\n",
            "Data columns (total 8 columns):\n",
            " #   Column         Non-Null Count    Dtype \n",
            "---  ------         --------------    ----- \n",
            " 0   ReviewId       1401982 non-null  int64 \n",
            " 1   RecipeId       1401982 non-null  int64 \n",
            " 2   AuthorId       1401982 non-null  int64 \n",
            " 3   AuthorName     1401982 non-null  object\n",
            " 4   Rating         1401982 non-null  int64 \n",
            " 5   Review         1401768 non-null  object\n",
            " 6   DateSubmitted  1401982 non-null  object\n",
            " 7   DateModified   1401982 non-null  object\n",
            "dtypes: int64(4), object(4)\n",
            "memory usage: 85.6+ MB\n"
          ]
        }
      ],
      "source": [
        "reviews_df.info()"
      ]
    },
    {
      "cell_type": "code",
      "execution_count": 8,
      "id": "f1e870b1-3006-4b8f-a420-4753ff648f2b",
      "metadata": {
        "id": "f1e870b1-3006-4b8f-a420-4753ff648f2b",
        "outputId": "03e8cb84-3e9b-4e29-cd93-49cf0bd2ea69",
        "colab": {
          "base_uri": "https://localhost:8080/",
          "height": 602
        }
      },
      "outputs": [
        {
          "output_type": "execute_result",
          "data": {
            "text/plain": [
              "   RecipeId                               Name  AuthorId      AuthorName  \\\n",
              "0        38  Low-Fat Berry Blue Frozen Dessert      1533          Dancer   \n",
              "1        39                            Biryani      1567        elly9812   \n",
              "2        40                      Best Lemonade      1566  Stephen Little   \n",
              "3        41     Carina's Tofu-Vegetable Kebabs      1586         Cyclopz   \n",
              "4        42                       Cabbage Soup      1538       Duckie067   \n",
              "\n",
              "  CookTime PrepTime TotalTime         DatePublished  \\\n",
              "0    PT24H    PT45M  PT24H45M  1999-08-09T21:46:00Z   \n",
              "1    PT25M     PT4H   PT4H25M  1999-08-29T13:12:00Z   \n",
              "2     PT5M    PT30M     PT35M  1999-09-05T19:52:00Z   \n",
              "3    PT20M    PT24H  PT24H20M  1999-09-03T14:54:00Z   \n",
              "4    PT30M    PT20M     PT50M  1999-09-19T06:19:00Z   \n",
              "\n",
              "                                         Description  \\\n",
              "0  Make and share this Low-Fat Berry Blue Frozen ...   \n",
              "1  Make and share this Biryani recipe from Food.com.   \n",
              "2  This is from one of my  first Good House Keepi...   \n",
              "3  This dish is best prepared a day in advance to...   \n",
              "4  Make and share this Cabbage Soup recipe from F...   \n",
              "\n",
              "                                              Images  ... SaturatedFatContent  \\\n",
              "0  c(\"https://img.sndimg.com/food/image/upload/w_...  ...                 1.3   \n",
              "1  c(\"https://img.sndimg.com/food/image/upload/w_...  ...                16.6   \n",
              "2  c(\"https://img.sndimg.com/food/image/upload/w_...  ...                 0.0   \n",
              "3  c(\"https://img.sndimg.com/food/image/upload/w_...  ...                 3.8   \n",
              "4  \"https://img.sndimg.com/food/image/upload/w_55...  ...                 0.1   \n",
              "\n",
              "  CholesterolContent SodiumContent CarbohydrateContent  FiberContent  \\\n",
              "0                8.0          29.8                37.1           3.6   \n",
              "1              372.8         368.4                84.4           9.0   \n",
              "2                0.0           1.8                81.5           0.4   \n",
              "3                0.0        1558.6                64.2          17.3   \n",
              "4                0.0         959.3                25.1           4.8   \n",
              "\n",
              "   SugarContent  ProteinContent  RecipeServings  RecipeYield  \\\n",
              "0          30.2             3.2             4.0          NaN   \n",
              "1          20.4            63.4             6.0          NaN   \n",
              "2          77.2             0.3             4.0          NaN   \n",
              "3          32.1            29.3             2.0     4 kebabs   \n",
              "4          17.7             4.3             4.0          NaN   \n",
              "\n",
              "                                  RecipeInstructions  \n",
              "0  c(\"Toss 2 cups berries with sugar.\", \"Let stan...  \n",
              "1  c(\"Soak saffron in warm milk for 5 minutes and...  \n",
              "2  c(\"Into a 1 quart Jar with tight fitting lid, ...  \n",
              "3  c(\"Drain the tofu, carefully squeezing out exc...  \n",
              "4  c(\"Mix everything together and bring to a boil...  \n",
              "\n",
              "[5 rows x 28 columns]"
            ],
            "text/html": [
              "\n",
              "  <div id=\"df-0b1f35e9-a020-41e4-8b92-5d2ef6f87336\" class=\"colab-df-container\">\n",
              "    <div>\n",
              "<style scoped>\n",
              "    .dataframe tbody tr th:only-of-type {\n",
              "        vertical-align: middle;\n",
              "    }\n",
              "\n",
              "    .dataframe tbody tr th {\n",
              "        vertical-align: top;\n",
              "    }\n",
              "\n",
              "    .dataframe thead th {\n",
              "        text-align: right;\n",
              "    }\n",
              "</style>\n",
              "<table border=\"1\" class=\"dataframe\">\n",
              "  <thead>\n",
              "    <tr style=\"text-align: right;\">\n",
              "      <th></th>\n",
              "      <th>RecipeId</th>\n",
              "      <th>Name</th>\n",
              "      <th>AuthorId</th>\n",
              "      <th>AuthorName</th>\n",
              "      <th>CookTime</th>\n",
              "      <th>PrepTime</th>\n",
              "      <th>TotalTime</th>\n",
              "      <th>DatePublished</th>\n",
              "      <th>Description</th>\n",
              "      <th>Images</th>\n",
              "      <th>...</th>\n",
              "      <th>SaturatedFatContent</th>\n",
              "      <th>CholesterolContent</th>\n",
              "      <th>SodiumContent</th>\n",
              "      <th>CarbohydrateContent</th>\n",
              "      <th>FiberContent</th>\n",
              "      <th>SugarContent</th>\n",
              "      <th>ProteinContent</th>\n",
              "      <th>RecipeServings</th>\n",
              "      <th>RecipeYield</th>\n",
              "      <th>RecipeInstructions</th>\n",
              "    </tr>\n",
              "  </thead>\n",
              "  <tbody>\n",
              "    <tr>\n",
              "      <th>0</th>\n",
              "      <td>38</td>\n",
              "      <td>Low-Fat Berry Blue Frozen Dessert</td>\n",
              "      <td>1533</td>\n",
              "      <td>Dancer</td>\n",
              "      <td>PT24H</td>\n",
              "      <td>PT45M</td>\n",
              "      <td>PT24H45M</td>\n",
              "      <td>1999-08-09T21:46:00Z</td>\n",
              "      <td>Make and share this Low-Fat Berry Blue Frozen ...</td>\n",
              "      <td>c(\"https://img.sndimg.com/food/image/upload/w_...</td>\n",
              "      <td>...</td>\n",
              "      <td>1.3</td>\n",
              "      <td>8.0</td>\n",
              "      <td>29.8</td>\n",
              "      <td>37.1</td>\n",
              "      <td>3.6</td>\n",
              "      <td>30.2</td>\n",
              "      <td>3.2</td>\n",
              "      <td>4.0</td>\n",
              "      <td>NaN</td>\n",
              "      <td>c(\"Toss 2 cups berries with sugar.\", \"Let stan...</td>\n",
              "    </tr>\n",
              "    <tr>\n",
              "      <th>1</th>\n",
              "      <td>39</td>\n",
              "      <td>Biryani</td>\n",
              "      <td>1567</td>\n",
              "      <td>elly9812</td>\n",
              "      <td>PT25M</td>\n",
              "      <td>PT4H</td>\n",
              "      <td>PT4H25M</td>\n",
              "      <td>1999-08-29T13:12:00Z</td>\n",
              "      <td>Make and share this Biryani recipe from Food.com.</td>\n",
              "      <td>c(\"https://img.sndimg.com/food/image/upload/w_...</td>\n",
              "      <td>...</td>\n",
              "      <td>16.6</td>\n",
              "      <td>372.8</td>\n",
              "      <td>368.4</td>\n",
              "      <td>84.4</td>\n",
              "      <td>9.0</td>\n",
              "      <td>20.4</td>\n",
              "      <td>63.4</td>\n",
              "      <td>6.0</td>\n",
              "      <td>NaN</td>\n",
              "      <td>c(\"Soak saffron in warm milk for 5 minutes and...</td>\n",
              "    </tr>\n",
              "    <tr>\n",
              "      <th>2</th>\n",
              "      <td>40</td>\n",
              "      <td>Best Lemonade</td>\n",
              "      <td>1566</td>\n",
              "      <td>Stephen Little</td>\n",
              "      <td>PT5M</td>\n",
              "      <td>PT30M</td>\n",
              "      <td>PT35M</td>\n",
              "      <td>1999-09-05T19:52:00Z</td>\n",
              "      <td>This is from one of my  first Good House Keepi...</td>\n",
              "      <td>c(\"https://img.sndimg.com/food/image/upload/w_...</td>\n",
              "      <td>...</td>\n",
              "      <td>0.0</td>\n",
              "      <td>0.0</td>\n",
              "      <td>1.8</td>\n",
              "      <td>81.5</td>\n",
              "      <td>0.4</td>\n",
              "      <td>77.2</td>\n",
              "      <td>0.3</td>\n",
              "      <td>4.0</td>\n",
              "      <td>NaN</td>\n",
              "      <td>c(\"Into a 1 quart Jar with tight fitting lid, ...</td>\n",
              "    </tr>\n",
              "    <tr>\n",
              "      <th>3</th>\n",
              "      <td>41</td>\n",
              "      <td>Carina's Tofu-Vegetable Kebabs</td>\n",
              "      <td>1586</td>\n",
              "      <td>Cyclopz</td>\n",
              "      <td>PT20M</td>\n",
              "      <td>PT24H</td>\n",
              "      <td>PT24H20M</td>\n",
              "      <td>1999-09-03T14:54:00Z</td>\n",
              "      <td>This dish is best prepared a day in advance to...</td>\n",
              "      <td>c(\"https://img.sndimg.com/food/image/upload/w_...</td>\n",
              "      <td>...</td>\n",
              "      <td>3.8</td>\n",
              "      <td>0.0</td>\n",
              "      <td>1558.6</td>\n",
              "      <td>64.2</td>\n",
              "      <td>17.3</td>\n",
              "      <td>32.1</td>\n",
              "      <td>29.3</td>\n",
              "      <td>2.0</td>\n",
              "      <td>4 kebabs</td>\n",
              "      <td>c(\"Drain the tofu, carefully squeezing out exc...</td>\n",
              "    </tr>\n",
              "    <tr>\n",
              "      <th>4</th>\n",
              "      <td>42</td>\n",
              "      <td>Cabbage Soup</td>\n",
              "      <td>1538</td>\n",
              "      <td>Duckie067</td>\n",
              "      <td>PT30M</td>\n",
              "      <td>PT20M</td>\n",
              "      <td>PT50M</td>\n",
              "      <td>1999-09-19T06:19:00Z</td>\n",
              "      <td>Make and share this Cabbage Soup recipe from F...</td>\n",
              "      <td>\"https://img.sndimg.com/food/image/upload/w_55...</td>\n",
              "      <td>...</td>\n",
              "      <td>0.1</td>\n",
              "      <td>0.0</td>\n",
              "      <td>959.3</td>\n",
              "      <td>25.1</td>\n",
              "      <td>4.8</td>\n",
              "      <td>17.7</td>\n",
              "      <td>4.3</td>\n",
              "      <td>4.0</td>\n",
              "      <td>NaN</td>\n",
              "      <td>c(\"Mix everything together and bring to a boil...</td>\n",
              "    </tr>\n",
              "  </tbody>\n",
              "</table>\n",
              "<p>5 rows × 28 columns</p>\n",
              "</div>\n",
              "    <div class=\"colab-df-buttons\">\n",
              "\n",
              "  <div class=\"colab-df-container\">\n",
              "    <button class=\"colab-df-convert\" onclick=\"convertToInteractive('df-0b1f35e9-a020-41e4-8b92-5d2ef6f87336')\"\n",
              "            title=\"Convert this dataframe to an interactive table.\"\n",
              "            style=\"display:none;\">\n",
              "\n",
              "  <svg xmlns=\"http://www.w3.org/2000/svg\" height=\"24px\" viewBox=\"0 -960 960 960\">\n",
              "    <path d=\"M120-120v-720h720v720H120Zm60-500h600v-160H180v160Zm220 220h160v-160H400v160Zm0 220h160v-160H400v160ZM180-400h160v-160H180v160Zm440 0h160v-160H620v160ZM180-180h160v-160H180v160Zm440 0h160v-160H620v160Z\"/>\n",
              "  </svg>\n",
              "    </button>\n",
              "\n",
              "  <style>\n",
              "    .colab-df-container {\n",
              "      display:flex;\n",
              "      gap: 12px;\n",
              "    }\n",
              "\n",
              "    .colab-df-convert {\n",
              "      background-color: #E8F0FE;\n",
              "      border: none;\n",
              "      border-radius: 50%;\n",
              "      cursor: pointer;\n",
              "      display: none;\n",
              "      fill: #1967D2;\n",
              "      height: 32px;\n",
              "      padding: 0 0 0 0;\n",
              "      width: 32px;\n",
              "    }\n",
              "\n",
              "    .colab-df-convert:hover {\n",
              "      background-color: #E2EBFA;\n",
              "      box-shadow: 0px 1px 2px rgba(60, 64, 67, 0.3), 0px 1px 3px 1px rgba(60, 64, 67, 0.15);\n",
              "      fill: #174EA6;\n",
              "    }\n",
              "\n",
              "    .colab-df-buttons div {\n",
              "      margin-bottom: 4px;\n",
              "    }\n",
              "\n",
              "    [theme=dark] .colab-df-convert {\n",
              "      background-color: #3B4455;\n",
              "      fill: #D2E3FC;\n",
              "    }\n",
              "\n",
              "    [theme=dark] .colab-df-convert:hover {\n",
              "      background-color: #434B5C;\n",
              "      box-shadow: 0px 1px 3px 1px rgba(0, 0, 0, 0.15);\n",
              "      filter: drop-shadow(0px 1px 2px rgba(0, 0, 0, 0.3));\n",
              "      fill: #FFFFFF;\n",
              "    }\n",
              "  </style>\n",
              "\n",
              "    <script>\n",
              "      const buttonEl =\n",
              "        document.querySelector('#df-0b1f35e9-a020-41e4-8b92-5d2ef6f87336 button.colab-df-convert');\n",
              "      buttonEl.style.display =\n",
              "        google.colab.kernel.accessAllowed ? 'block' : 'none';\n",
              "\n",
              "      async function convertToInteractive(key) {\n",
              "        const element = document.querySelector('#df-0b1f35e9-a020-41e4-8b92-5d2ef6f87336');\n",
              "        const dataTable =\n",
              "          await google.colab.kernel.invokeFunction('convertToInteractive',\n",
              "                                                    [key], {});\n",
              "        if (!dataTable) return;\n",
              "\n",
              "        const docLinkHtml = 'Like what you see? Visit the ' +\n",
              "          '<a target=\"_blank\" href=https://colab.research.google.com/notebooks/data_table.ipynb>data table notebook</a>'\n",
              "          + ' to learn more about interactive tables.';\n",
              "        element.innerHTML = '';\n",
              "        dataTable['output_type'] = 'display_data';\n",
              "        await google.colab.output.renderOutput(dataTable, element);\n",
              "        const docLink = document.createElement('div');\n",
              "        docLink.innerHTML = docLinkHtml;\n",
              "        element.appendChild(docLink);\n",
              "      }\n",
              "    </script>\n",
              "  </div>\n",
              "\n",
              "\n",
              "    <div id=\"df-beb86722-1ab3-4a32-bc6b-38fabd6e5157\">\n",
              "      <button class=\"colab-df-quickchart\" onclick=\"quickchart('df-beb86722-1ab3-4a32-bc6b-38fabd6e5157')\"\n",
              "                title=\"Suggest charts\"\n",
              "                style=\"display:none;\">\n",
              "\n",
              "<svg xmlns=\"http://www.w3.org/2000/svg\" height=\"24px\"viewBox=\"0 0 24 24\"\n",
              "     width=\"24px\">\n",
              "    <g>\n",
              "        <path d=\"M19 3H5c-1.1 0-2 .9-2 2v14c0 1.1.9 2 2 2h14c1.1 0 2-.9 2-2V5c0-1.1-.9-2-2-2zM9 17H7v-7h2v7zm4 0h-2V7h2v10zm4 0h-2v-4h2v4z\"/>\n",
              "    </g>\n",
              "</svg>\n",
              "      </button>\n",
              "\n",
              "<style>\n",
              "  .colab-df-quickchart {\n",
              "      --bg-color: #E8F0FE;\n",
              "      --fill-color: #1967D2;\n",
              "      --hover-bg-color: #E2EBFA;\n",
              "      --hover-fill-color: #174EA6;\n",
              "      --disabled-fill-color: #AAA;\n",
              "      --disabled-bg-color: #DDD;\n",
              "  }\n",
              "\n",
              "  [theme=dark] .colab-df-quickchart {\n",
              "      --bg-color: #3B4455;\n",
              "      --fill-color: #D2E3FC;\n",
              "      --hover-bg-color: #434B5C;\n",
              "      --hover-fill-color: #FFFFFF;\n",
              "      --disabled-bg-color: #3B4455;\n",
              "      --disabled-fill-color: #666;\n",
              "  }\n",
              "\n",
              "  .colab-df-quickchart {\n",
              "    background-color: var(--bg-color);\n",
              "    border: none;\n",
              "    border-radius: 50%;\n",
              "    cursor: pointer;\n",
              "    display: none;\n",
              "    fill: var(--fill-color);\n",
              "    height: 32px;\n",
              "    padding: 0;\n",
              "    width: 32px;\n",
              "  }\n",
              "\n",
              "  .colab-df-quickchart:hover {\n",
              "    background-color: var(--hover-bg-color);\n",
              "    box-shadow: 0 1px 2px rgba(60, 64, 67, 0.3), 0 1px 3px 1px rgba(60, 64, 67, 0.15);\n",
              "    fill: var(--button-hover-fill-color);\n",
              "  }\n",
              "\n",
              "  .colab-df-quickchart-complete:disabled,\n",
              "  .colab-df-quickchart-complete:disabled:hover {\n",
              "    background-color: var(--disabled-bg-color);\n",
              "    fill: var(--disabled-fill-color);\n",
              "    box-shadow: none;\n",
              "  }\n",
              "\n",
              "  .colab-df-spinner {\n",
              "    border: 2px solid var(--fill-color);\n",
              "    border-color: transparent;\n",
              "    border-bottom-color: var(--fill-color);\n",
              "    animation:\n",
              "      spin 1s steps(1) infinite;\n",
              "  }\n",
              "\n",
              "  @keyframes spin {\n",
              "    0% {\n",
              "      border-color: transparent;\n",
              "      border-bottom-color: var(--fill-color);\n",
              "      border-left-color: var(--fill-color);\n",
              "    }\n",
              "    20% {\n",
              "      border-color: transparent;\n",
              "      border-left-color: var(--fill-color);\n",
              "      border-top-color: var(--fill-color);\n",
              "    }\n",
              "    30% {\n",
              "      border-color: transparent;\n",
              "      border-left-color: var(--fill-color);\n",
              "      border-top-color: var(--fill-color);\n",
              "      border-right-color: var(--fill-color);\n",
              "    }\n",
              "    40% {\n",
              "      border-color: transparent;\n",
              "      border-right-color: var(--fill-color);\n",
              "      border-top-color: var(--fill-color);\n",
              "    }\n",
              "    60% {\n",
              "      border-color: transparent;\n",
              "      border-right-color: var(--fill-color);\n",
              "    }\n",
              "    80% {\n",
              "      border-color: transparent;\n",
              "      border-right-color: var(--fill-color);\n",
              "      border-bottom-color: var(--fill-color);\n",
              "    }\n",
              "    90% {\n",
              "      border-color: transparent;\n",
              "      border-bottom-color: var(--fill-color);\n",
              "    }\n",
              "  }\n",
              "</style>\n",
              "\n",
              "      <script>\n",
              "        async function quickchart(key) {\n",
              "          const quickchartButtonEl =\n",
              "            document.querySelector('#' + key + ' button');\n",
              "          quickchartButtonEl.disabled = true;  // To prevent multiple clicks.\n",
              "          quickchartButtonEl.classList.add('colab-df-spinner');\n",
              "          try {\n",
              "            const charts = await google.colab.kernel.invokeFunction(\n",
              "                'suggestCharts', [key], {});\n",
              "          } catch (error) {\n",
              "            console.error('Error during call to suggestCharts:', error);\n",
              "          }\n",
              "          quickchartButtonEl.classList.remove('colab-df-spinner');\n",
              "          quickchartButtonEl.classList.add('colab-df-quickchart-complete');\n",
              "        }\n",
              "        (() => {\n",
              "          let quickchartButtonEl =\n",
              "            document.querySelector('#df-beb86722-1ab3-4a32-bc6b-38fabd6e5157 button');\n",
              "          quickchartButtonEl.style.display =\n",
              "            google.colab.kernel.accessAllowed ? 'block' : 'none';\n",
              "        })();\n",
              "      </script>\n",
              "    </div>\n",
              "\n",
              "    </div>\n",
              "  </div>\n"
            ],
            "application/vnd.google.colaboratory.intrinsic+json": {
              "type": "dataframe",
              "variable_name": "recipes_df"
            }
          },
          "metadata": {},
          "execution_count": 8
        }
      ],
      "source": [
        "recipes_df.head()"
      ]
    },
    {
      "cell_type": "code",
      "execution_count": 9,
      "id": "2370b29b-45a6-4a04-aa4c-cc9031c0ba1f",
      "metadata": {
        "id": "2370b29b-45a6-4a04-aa4c-cc9031c0ba1f",
        "outputId": "1506bf7d-9bbe-4815-f129-723a1bc73331",
        "colab": {
          "base_uri": "https://localhost:8080/",
          "height": 206
        }
      },
      "outputs": [
        {
          "output_type": "execute_result",
          "data": {
            "text/plain": [
              "   ReviewId  RecipeId  AuthorId        AuthorName  Rating  \\\n",
              "0         2       992      2008         gayg msft       5   \n",
              "1         7      4384      1634     Bill Hilbrich       4   \n",
              "2         9      4523      2046  Gay Gilmore ckpt       2   \n",
              "3        13      7435      1773     Malarkey Test       5   \n",
              "4        14        44      2085        Tony Small       5   \n",
              "\n",
              "                                              Review         DateSubmitted  \\\n",
              "0       better than any you can get at a restaurant!  2000-01-25T21:44:00Z   \n",
              "1  I cut back on the mayo, and made up the differ...  2001-10-17T16:49:59Z   \n",
              "2  i think i did something wrong because i could ...  2000-02-25T09:00:00Z   \n",
              "3  easily the best i have ever had.  juicy flavor...  2000-03-13T21:15:00Z   \n",
              "4                                 An excellent dish.  2000-03-28T12:51:00Z   \n",
              "\n",
              "           DateModified  \n",
              "0  2000-01-25T21:44:00Z  \n",
              "1  2001-10-17T16:49:59Z  \n",
              "2  2000-02-25T09:00:00Z  \n",
              "3  2000-03-13T21:15:00Z  \n",
              "4  2000-03-28T12:51:00Z  "
            ],
            "text/html": [
              "\n",
              "  <div id=\"df-4bdfcc82-de5d-4c50-9de4-9aaf0662dc5c\" class=\"colab-df-container\">\n",
              "    <div>\n",
              "<style scoped>\n",
              "    .dataframe tbody tr th:only-of-type {\n",
              "        vertical-align: middle;\n",
              "    }\n",
              "\n",
              "    .dataframe tbody tr th {\n",
              "        vertical-align: top;\n",
              "    }\n",
              "\n",
              "    .dataframe thead th {\n",
              "        text-align: right;\n",
              "    }\n",
              "</style>\n",
              "<table border=\"1\" class=\"dataframe\">\n",
              "  <thead>\n",
              "    <tr style=\"text-align: right;\">\n",
              "      <th></th>\n",
              "      <th>ReviewId</th>\n",
              "      <th>RecipeId</th>\n",
              "      <th>AuthorId</th>\n",
              "      <th>AuthorName</th>\n",
              "      <th>Rating</th>\n",
              "      <th>Review</th>\n",
              "      <th>DateSubmitted</th>\n",
              "      <th>DateModified</th>\n",
              "    </tr>\n",
              "  </thead>\n",
              "  <tbody>\n",
              "    <tr>\n",
              "      <th>0</th>\n",
              "      <td>2</td>\n",
              "      <td>992</td>\n",
              "      <td>2008</td>\n",
              "      <td>gayg msft</td>\n",
              "      <td>5</td>\n",
              "      <td>better than any you can get at a restaurant!</td>\n",
              "      <td>2000-01-25T21:44:00Z</td>\n",
              "      <td>2000-01-25T21:44:00Z</td>\n",
              "    </tr>\n",
              "    <tr>\n",
              "      <th>1</th>\n",
              "      <td>7</td>\n",
              "      <td>4384</td>\n",
              "      <td>1634</td>\n",
              "      <td>Bill Hilbrich</td>\n",
              "      <td>4</td>\n",
              "      <td>I cut back on the mayo, and made up the differ...</td>\n",
              "      <td>2001-10-17T16:49:59Z</td>\n",
              "      <td>2001-10-17T16:49:59Z</td>\n",
              "    </tr>\n",
              "    <tr>\n",
              "      <th>2</th>\n",
              "      <td>9</td>\n",
              "      <td>4523</td>\n",
              "      <td>2046</td>\n",
              "      <td>Gay Gilmore ckpt</td>\n",
              "      <td>2</td>\n",
              "      <td>i think i did something wrong because i could ...</td>\n",
              "      <td>2000-02-25T09:00:00Z</td>\n",
              "      <td>2000-02-25T09:00:00Z</td>\n",
              "    </tr>\n",
              "    <tr>\n",
              "      <th>3</th>\n",
              "      <td>13</td>\n",
              "      <td>7435</td>\n",
              "      <td>1773</td>\n",
              "      <td>Malarkey Test</td>\n",
              "      <td>5</td>\n",
              "      <td>easily the best i have ever had.  juicy flavor...</td>\n",
              "      <td>2000-03-13T21:15:00Z</td>\n",
              "      <td>2000-03-13T21:15:00Z</td>\n",
              "    </tr>\n",
              "    <tr>\n",
              "      <th>4</th>\n",
              "      <td>14</td>\n",
              "      <td>44</td>\n",
              "      <td>2085</td>\n",
              "      <td>Tony Small</td>\n",
              "      <td>5</td>\n",
              "      <td>An excellent dish.</td>\n",
              "      <td>2000-03-28T12:51:00Z</td>\n",
              "      <td>2000-03-28T12:51:00Z</td>\n",
              "    </tr>\n",
              "  </tbody>\n",
              "</table>\n",
              "</div>\n",
              "    <div class=\"colab-df-buttons\">\n",
              "\n",
              "  <div class=\"colab-df-container\">\n",
              "    <button class=\"colab-df-convert\" onclick=\"convertToInteractive('df-4bdfcc82-de5d-4c50-9de4-9aaf0662dc5c')\"\n",
              "            title=\"Convert this dataframe to an interactive table.\"\n",
              "            style=\"display:none;\">\n",
              "\n",
              "  <svg xmlns=\"http://www.w3.org/2000/svg\" height=\"24px\" viewBox=\"0 -960 960 960\">\n",
              "    <path d=\"M120-120v-720h720v720H120Zm60-500h600v-160H180v160Zm220 220h160v-160H400v160Zm0 220h160v-160H400v160ZM180-400h160v-160H180v160Zm440 0h160v-160H620v160ZM180-180h160v-160H180v160Zm440 0h160v-160H620v160Z\"/>\n",
              "  </svg>\n",
              "    </button>\n",
              "\n",
              "  <style>\n",
              "    .colab-df-container {\n",
              "      display:flex;\n",
              "      gap: 12px;\n",
              "    }\n",
              "\n",
              "    .colab-df-convert {\n",
              "      background-color: #E8F0FE;\n",
              "      border: none;\n",
              "      border-radius: 50%;\n",
              "      cursor: pointer;\n",
              "      display: none;\n",
              "      fill: #1967D2;\n",
              "      height: 32px;\n",
              "      padding: 0 0 0 0;\n",
              "      width: 32px;\n",
              "    }\n",
              "\n",
              "    .colab-df-convert:hover {\n",
              "      background-color: #E2EBFA;\n",
              "      box-shadow: 0px 1px 2px rgba(60, 64, 67, 0.3), 0px 1px 3px 1px rgba(60, 64, 67, 0.15);\n",
              "      fill: #174EA6;\n",
              "    }\n",
              "\n",
              "    .colab-df-buttons div {\n",
              "      margin-bottom: 4px;\n",
              "    }\n",
              "\n",
              "    [theme=dark] .colab-df-convert {\n",
              "      background-color: #3B4455;\n",
              "      fill: #D2E3FC;\n",
              "    }\n",
              "\n",
              "    [theme=dark] .colab-df-convert:hover {\n",
              "      background-color: #434B5C;\n",
              "      box-shadow: 0px 1px 3px 1px rgba(0, 0, 0, 0.15);\n",
              "      filter: drop-shadow(0px 1px 2px rgba(0, 0, 0, 0.3));\n",
              "      fill: #FFFFFF;\n",
              "    }\n",
              "  </style>\n",
              "\n",
              "    <script>\n",
              "      const buttonEl =\n",
              "        document.querySelector('#df-4bdfcc82-de5d-4c50-9de4-9aaf0662dc5c button.colab-df-convert');\n",
              "      buttonEl.style.display =\n",
              "        google.colab.kernel.accessAllowed ? 'block' : 'none';\n",
              "\n",
              "      async function convertToInteractive(key) {\n",
              "        const element = document.querySelector('#df-4bdfcc82-de5d-4c50-9de4-9aaf0662dc5c');\n",
              "        const dataTable =\n",
              "          await google.colab.kernel.invokeFunction('convertToInteractive',\n",
              "                                                    [key], {});\n",
              "        if (!dataTable) return;\n",
              "\n",
              "        const docLinkHtml = 'Like what you see? Visit the ' +\n",
              "          '<a target=\"_blank\" href=https://colab.research.google.com/notebooks/data_table.ipynb>data table notebook</a>'\n",
              "          + ' to learn more about interactive tables.';\n",
              "        element.innerHTML = '';\n",
              "        dataTable['output_type'] = 'display_data';\n",
              "        await google.colab.output.renderOutput(dataTable, element);\n",
              "        const docLink = document.createElement('div');\n",
              "        docLink.innerHTML = docLinkHtml;\n",
              "        element.appendChild(docLink);\n",
              "      }\n",
              "    </script>\n",
              "  </div>\n",
              "\n",
              "\n",
              "    <div id=\"df-6ff58a71-fe45-47d6-8100-fa219d9b1b75\">\n",
              "      <button class=\"colab-df-quickchart\" onclick=\"quickchart('df-6ff58a71-fe45-47d6-8100-fa219d9b1b75')\"\n",
              "                title=\"Suggest charts\"\n",
              "                style=\"display:none;\">\n",
              "\n",
              "<svg xmlns=\"http://www.w3.org/2000/svg\" height=\"24px\"viewBox=\"0 0 24 24\"\n",
              "     width=\"24px\">\n",
              "    <g>\n",
              "        <path d=\"M19 3H5c-1.1 0-2 .9-2 2v14c0 1.1.9 2 2 2h14c1.1 0 2-.9 2-2V5c0-1.1-.9-2-2-2zM9 17H7v-7h2v7zm4 0h-2V7h2v10zm4 0h-2v-4h2v4z\"/>\n",
              "    </g>\n",
              "</svg>\n",
              "      </button>\n",
              "\n",
              "<style>\n",
              "  .colab-df-quickchart {\n",
              "      --bg-color: #E8F0FE;\n",
              "      --fill-color: #1967D2;\n",
              "      --hover-bg-color: #E2EBFA;\n",
              "      --hover-fill-color: #174EA6;\n",
              "      --disabled-fill-color: #AAA;\n",
              "      --disabled-bg-color: #DDD;\n",
              "  }\n",
              "\n",
              "  [theme=dark] .colab-df-quickchart {\n",
              "      --bg-color: #3B4455;\n",
              "      --fill-color: #D2E3FC;\n",
              "      --hover-bg-color: #434B5C;\n",
              "      --hover-fill-color: #FFFFFF;\n",
              "      --disabled-bg-color: #3B4455;\n",
              "      --disabled-fill-color: #666;\n",
              "  }\n",
              "\n",
              "  .colab-df-quickchart {\n",
              "    background-color: var(--bg-color);\n",
              "    border: none;\n",
              "    border-radius: 50%;\n",
              "    cursor: pointer;\n",
              "    display: none;\n",
              "    fill: var(--fill-color);\n",
              "    height: 32px;\n",
              "    padding: 0;\n",
              "    width: 32px;\n",
              "  }\n",
              "\n",
              "  .colab-df-quickchart:hover {\n",
              "    background-color: var(--hover-bg-color);\n",
              "    box-shadow: 0 1px 2px rgba(60, 64, 67, 0.3), 0 1px 3px 1px rgba(60, 64, 67, 0.15);\n",
              "    fill: var(--button-hover-fill-color);\n",
              "  }\n",
              "\n",
              "  .colab-df-quickchart-complete:disabled,\n",
              "  .colab-df-quickchart-complete:disabled:hover {\n",
              "    background-color: var(--disabled-bg-color);\n",
              "    fill: var(--disabled-fill-color);\n",
              "    box-shadow: none;\n",
              "  }\n",
              "\n",
              "  .colab-df-spinner {\n",
              "    border: 2px solid var(--fill-color);\n",
              "    border-color: transparent;\n",
              "    border-bottom-color: var(--fill-color);\n",
              "    animation:\n",
              "      spin 1s steps(1) infinite;\n",
              "  }\n",
              "\n",
              "  @keyframes spin {\n",
              "    0% {\n",
              "      border-color: transparent;\n",
              "      border-bottom-color: var(--fill-color);\n",
              "      border-left-color: var(--fill-color);\n",
              "    }\n",
              "    20% {\n",
              "      border-color: transparent;\n",
              "      border-left-color: var(--fill-color);\n",
              "      border-top-color: var(--fill-color);\n",
              "    }\n",
              "    30% {\n",
              "      border-color: transparent;\n",
              "      border-left-color: var(--fill-color);\n",
              "      border-top-color: var(--fill-color);\n",
              "      border-right-color: var(--fill-color);\n",
              "    }\n",
              "    40% {\n",
              "      border-color: transparent;\n",
              "      border-right-color: var(--fill-color);\n",
              "      border-top-color: var(--fill-color);\n",
              "    }\n",
              "    60% {\n",
              "      border-color: transparent;\n",
              "      border-right-color: var(--fill-color);\n",
              "    }\n",
              "    80% {\n",
              "      border-color: transparent;\n",
              "      border-right-color: var(--fill-color);\n",
              "      border-bottom-color: var(--fill-color);\n",
              "    }\n",
              "    90% {\n",
              "      border-color: transparent;\n",
              "      border-bottom-color: var(--fill-color);\n",
              "    }\n",
              "  }\n",
              "</style>\n",
              "\n",
              "      <script>\n",
              "        async function quickchart(key) {\n",
              "          const quickchartButtonEl =\n",
              "            document.querySelector('#' + key + ' button');\n",
              "          quickchartButtonEl.disabled = true;  // To prevent multiple clicks.\n",
              "          quickchartButtonEl.classList.add('colab-df-spinner');\n",
              "          try {\n",
              "            const charts = await google.colab.kernel.invokeFunction(\n",
              "                'suggestCharts', [key], {});\n",
              "          } catch (error) {\n",
              "            console.error('Error during call to suggestCharts:', error);\n",
              "          }\n",
              "          quickchartButtonEl.classList.remove('colab-df-spinner');\n",
              "          quickchartButtonEl.classList.add('colab-df-quickchart-complete');\n",
              "        }\n",
              "        (() => {\n",
              "          let quickchartButtonEl =\n",
              "            document.querySelector('#df-6ff58a71-fe45-47d6-8100-fa219d9b1b75 button');\n",
              "          quickchartButtonEl.style.display =\n",
              "            google.colab.kernel.accessAllowed ? 'block' : 'none';\n",
              "        })();\n",
              "      </script>\n",
              "    </div>\n",
              "\n",
              "    </div>\n",
              "  </div>\n"
            ],
            "application/vnd.google.colaboratory.intrinsic+json": {
              "type": "dataframe",
              "variable_name": "reviews_df"
            }
          },
          "metadata": {},
          "execution_count": 9
        }
      ],
      "source": [
        "reviews_df.head()"
      ]
    },
    {
      "cell_type": "code",
      "execution_count": 10,
      "id": "9864bc22-f7cb-4028-87a2-2106b25f2b26",
      "metadata": {
        "id": "9864bc22-f7cb-4028-87a2-2106b25f2b26",
        "outputId": "4d3e78bc-26d9-407a-9eb5-a3fb0e3866f8",
        "colab": {
          "base_uri": "https://localhost:8080/"
        }
      },
      "outputs": [
        {
          "output_type": "execute_result",
          "data": {
            "text/plain": [
              "Index(['ReviewId', 'RecipeId', 'AuthorId', 'AuthorName', 'Rating', 'Review',\n",
              "       'DateSubmitted', 'DateModified'],\n",
              "      dtype='object')"
            ]
          },
          "metadata": {},
          "execution_count": 10
        }
      ],
      "source": [
        "reviews_df.columns"
      ]
    },
    {
      "cell_type": "code",
      "execution_count": 11,
      "id": "76981bd4-6806-4815-8c01-db428b217a94",
      "metadata": {
        "id": "76981bd4-6806-4815-8c01-db428b217a94",
        "outputId": "0ef66d24-8109-4d62-946a-58d5a2ae4c3e",
        "colab": {
          "base_uri": "https://localhost:8080/"
        }
      },
      "outputs": [
        {
          "output_type": "execute_result",
          "data": {
            "text/plain": [
              "Index(['RecipeId', 'Name', 'AuthorId', 'AuthorName', 'CookTime', 'PrepTime',\n",
              "       'TotalTime', 'DatePublished', 'Description', 'Images', 'RecipeCategory',\n",
              "       'Keywords', 'RecipeIngredientQuantities', 'RecipeIngredientParts',\n",
              "       'AggregatedRating', 'ReviewCount', 'Calories', 'FatContent',\n",
              "       'SaturatedFatContent', 'CholesterolContent', 'SodiumContent',\n",
              "       'CarbohydrateContent', 'FiberContent', 'SugarContent', 'ProteinContent',\n",
              "       'RecipeServings', 'RecipeYield', 'RecipeInstructions'],\n",
              "      dtype='object')"
            ]
          },
          "metadata": {},
          "execution_count": 11
        }
      ],
      "source": [
        "recipes_df.columns"
      ]
    },
    {
      "cell_type": "code",
      "execution_count": 12,
      "id": "9fc7e506-a170-4ee3-8bb1-510396b236a2",
      "metadata": {
        "id": "9fc7e506-a170-4ee3-8bb1-510396b236a2"
      },
      "outputs": [],
      "source": [
        "# Renaming for consistency\n",
        "reviews_df.rename(columns={'RecipeId': 'recipe_id', 'AuthorId': 'user_id'}, inplace=True)\n",
        "recipes_df.rename(columns={'RecipeId': 'recipe_id'}, inplace=True)"
      ]
    },
    {
      "cell_type": "code",
      "execution_count": 13,
      "id": "debc06e0-17dd-40b3-ae18-f7556d446321",
      "metadata": {
        "id": "debc06e0-17dd-40b3-ae18-f7556d446321"
      },
      "outputs": [],
      "source": [
        "# Merging on recipe_id to bring in recipe metadata into the reviews\n",
        "full_df = pd.merge(\n",
        "    reviews_df,\n",
        "    recipes_df[['recipe_id', 'Name', 'RecipeIngredientParts', 'RecipeInstructions', 'Keywords', 'RecipeCategory']],\n",
        "    on='recipe_id',\n",
        "    how='inner'\n",
        ")"
      ]
    },
    {
      "cell_type": "code",
      "execution_count": 14,
      "id": "2ee4750d-b07f-4b91-a286-c2b0eacdf5b7",
      "metadata": {
        "id": "2ee4750d-b07f-4b91-a286-c2b0eacdf5b7"
      },
      "outputs": [],
      "source": [
        "full_df['category'] = full_df['RecipeCategory'].fillna(\"Unknown\")"
      ]
    },
    {
      "cell_type": "code",
      "execution_count": 15,
      "id": "b48c9bc0-0f65-47dd-90d4-ca99a20e7e01",
      "metadata": {
        "id": "b48c9bc0-0f65-47dd-90d4-ca99a20e7e01"
      },
      "outputs": [],
      "source": [
        "# Encoding the users, items, category feature\n",
        "user_encoder = LabelEncoder()\n",
        "item_encoder = LabelEncoder()\n",
        "category_encoder = LabelEncoder()"
      ]
    },
    {
      "cell_type": "code",
      "execution_count": 16,
      "id": "53d79c14-cf44-4280-a63c-04db70ea5f0e",
      "metadata": {
        "id": "53d79c14-cf44-4280-a63c-04db70ea5f0e"
      },
      "outputs": [],
      "source": [
        "full_df['user_id_enc'] = user_encoder.fit_transform(full_df['user_id'])\n",
        "full_df['item_id_enc'] = item_encoder.fit_transform(full_df['recipe_id'])\n",
        "full_df['category_encoded'] = category_encoder.fit_transform(full_df['category'])"
      ]
    },
    {
      "cell_type": "code",
      "execution_count": 17,
      "id": "35b41e49-fd19-44ea-ace5-f864633719d1",
      "metadata": {
        "id": "35b41e49-fd19-44ea-ace5-f864633719d1"
      },
      "outputs": [],
      "source": [
        "from sklearn.model_selection import train_test_split"
      ]
    },
    {
      "cell_type": "code",
      "execution_count": 18,
      "id": "1884ff91-8684-420d-adfd-76d84b585606",
      "metadata": {
        "id": "1884ff91-8684-420d-adfd-76d84b585606"
      },
      "outputs": [],
      "source": [
        "train_df, test_df = train_test_split(full_df, test_size=0.3, random_state=42)"
      ]
    },
    {
      "cell_type": "code",
      "execution_count": 19,
      "id": "00979eae-5121-46b2-80ff-fc32ae6198f8",
      "metadata": {
        "id": "00979eae-5121-46b2-80ff-fc32ae6198f8",
        "outputId": "07c919a3-d270-4933-d462-c3362100a83f",
        "colab": {
          "base_uri": "https://localhost:8080/"
        }
      },
      "outputs": [
        {
          "output_type": "execute_result",
          "data": {
            "text/plain": [
              "Index(['ReviewId', 'recipe_id', 'user_id', 'AuthorName', 'Rating', 'Review',\n",
              "       'DateSubmitted', 'DateModified', 'Name', 'RecipeIngredientParts',\n",
              "       'RecipeInstructions', 'Keywords', 'RecipeCategory', 'category',\n",
              "       'user_id_enc', 'item_id_enc', 'category_encoded'],\n",
              "      dtype='object')"
            ]
          },
          "metadata": {},
          "execution_count": 19
        }
      ],
      "source": [
        "test_df.columns"
      ]
    },
    {
      "cell_type": "code",
      "execution_count": 19,
      "id": "4788cecc-00ed-4e9f-a5b4-f3e0e0a6d45c",
      "metadata": {
        "id": "4788cecc-00ed-4e9f-a5b4-f3e0e0a6d45c"
      },
      "outputs": [],
      "source": []
    },
    {
      "cell_type": "code",
      "execution_count": 19,
      "id": "236888b7-96aa-41c4-be92-605569c251f6",
      "metadata": {
        "id": "236888b7-96aa-41c4-be92-605569c251f6"
      },
      "outputs": [],
      "source": []
    },
    {
      "cell_type": "code",
      "execution_count": 19,
      "id": "722b9ad2-3800-4f96-b806-55836298545c",
      "metadata": {
        "id": "722b9ad2-3800-4f96-b806-55836298545c"
      },
      "outputs": [],
      "source": []
    },
    {
      "cell_type": "markdown",
      "id": "5cc36ea0-fe74-40f9-9b07-6c70c9d77682",
      "metadata": {
        "id": "5cc36ea0-fe74-40f9-9b07-6c70c9d77682"
      },
      "source": [
        "##### Dataset to include Cuisine"
      ]
    },
    {
      "cell_type": "code",
      "execution_count": 20,
      "id": "1cdf6b14-b1b3-4396-a02e-f8fd26483c71",
      "metadata": {
        "id": "1cdf6b14-b1b3-4396-a02e-f8fd26483c71"
      },
      "outputs": [],
      "source": [
        "class HybridRatingsDataset(Dataset):\n",
        "    def __init__(self, df):\n",
        "        self.user = torch.tensor(df['user_id_enc'].values, dtype=torch.long)\n",
        "        self.item = torch.tensor(df['item_id_enc'].values, dtype=torch.long)\n",
        "        self.category = torch.tensor(df['category_encoded'].values, dtype=torch.long)\n",
        "        self.rating = torch.tensor(df['Rating'].values, dtype=torch.float32)\n",
        "\n",
        "    def __len__(self):\n",
        "        return len(self.rating)\n",
        "\n",
        "    def __getitem__(self, idx):\n",
        "        return self.user[idx], self.item[idx], self.category[idx], self.rating[idx]"
      ]
    },
    {
      "cell_type": "markdown",
      "id": "cce771cb-74eb-4fed-ab52-50986ad0d068",
      "metadata": {
        "id": "cce771cb-74eb-4fed-ab52-50986ad0d068"
      },
      "source": [
        "##### Defining the Hybrid Model"
      ]
    },
    {
      "cell_type": "code",
      "execution_count": 21,
      "id": "53baafbf-58e8-42c6-a8a8-35249eca8af2",
      "metadata": {
        "id": "53baafbf-58e8-42c6-a8a8-35249eca8af2"
      },
      "outputs": [],
      "source": [
        "import torch.nn as nn\n",
        "import torch.nn.functional as F"
      ]
    },
    {
      "cell_type": "code",
      "execution_count": 22,
      "id": "2f69d8a9-5586-4eab-8067-2eab915ed991",
      "metadata": {
        "id": "2f69d8a9-5586-4eab-8067-2eab915ed991"
      },
      "outputs": [],
      "source": [
        "class HybridNCF(nn.Module):\n",
        "    def __init__(self, n_users, n_items, n_categories, emb_dim=64, hidden=[64, 32]):\n",
        "        super().__init__()\n",
        "        self.user_embed = nn.Embedding(n_users, emb_dim)\n",
        "        self.item_embed = nn.Embedding(n_items, emb_dim)\n",
        "        self.cat_embed = nn.Embedding(n_categories, emb_dim)\n",
        "\n",
        "        self.mlp = nn.Sequential(\n",
        "            nn.Linear(emb_dim * 3, hidden[0]),\n",
        "            nn.ReLU(),\n",
        "            nn.Linear(hidden[0], hidden[1]),\n",
        "            nn.ReLU(),\n",
        "            nn.Linear(hidden[1], 1)\n",
        "        )\n",
        "\n",
        "    def forward(self, user, item, category):\n",
        "        ue = self.user_embed(user)\n",
        "        ie = self.item_embed(item)\n",
        "        ce = self.cat_embed(category)\n",
        "        x = torch.cat([ue, ie, ce], dim=-1)\n",
        "        return self.mlp(x).squeeze()"
      ]
    },
    {
      "cell_type": "markdown",
      "id": "cd3eed7b-ebe4-4437-8b06-31c751c6f6d3",
      "metadata": {
        "id": "cd3eed7b-ebe4-4437-8b06-31c751c6f6d3"
      },
      "source": [
        "##### Training Loop and Model Evaluation"
      ]
    },
    {
      "cell_type": "code",
      "execution_count": 23,
      "id": "d5b842f8-4ae1-43f7-b9f1-f5455875acac",
      "metadata": {
        "id": "d5b842f8-4ae1-43f7-b9f1-f5455875acac"
      },
      "outputs": [],
      "source": [
        "from collections import defaultdict\n",
        "from sklearn.metrics import root_mean_squared_error, mean_absolute_error, ndcg_score"
      ]
    },
    {
      "cell_type": "code",
      "execution_count": 24,
      "id": "cd3be26b-84ce-4469-a043-37ea87a45417",
      "metadata": {
        "id": "cd3be26b-84ce-4469-a043-37ea87a45417"
      },
      "outputs": [],
      "source": [
        "embedding_dim = 64\n",
        "hidden_layers = [64, 32]\n",
        "learning_rate = 0.001\n",
        "batch_size = 256\n",
        "epochs = 15"
      ]
    },
    {
      "cell_type": "code",
      "execution_count": 25,
      "id": "e2443a7d-916e-4be6-af45-a4a718dc27a9",
      "metadata": {
        "id": "e2443a7d-916e-4be6-af45-a4a718dc27a9",
        "outputId": "b5fae724-68a3-46d7-8457-bbc54106b845",
        "colab": {
          "base_uri": "https://localhost:8080/"
        }
      },
      "outputs": [
        {
          "output_type": "stream",
          "name": "stdout",
          "text": [
            "cpu\n"
          ]
        }
      ],
      "source": [
        "device = torch.device('cuda' if torch.cuda.is_available() else 'cpu')\n",
        "print(device)"
      ]
    },
    {
      "cell_type": "code",
      "execution_count": 26,
      "id": "cc43b648-89a9-4bd1-a77a-867d6a42d83b",
      "metadata": {
        "id": "cc43b648-89a9-4bd1-a77a-867d6a42d83b"
      },
      "outputs": [],
      "source": [
        "train_dataset = HybridRatingsDataset(train_df)\n",
        "test_dataset = HybridRatingsDataset(test_df)"
      ]
    },
    {
      "cell_type": "code",
      "execution_count": 27,
      "id": "5a2c480d-0348-40c3-b482-9b203a906089",
      "metadata": {
        "id": "5a2c480d-0348-40c3-b482-9b203a906089"
      },
      "outputs": [],
      "source": [
        "train_loader = DataLoader(train_dataset, batch_size=batch_size, shuffle=True)\n",
        "test_loader = DataLoader(test_dataset, batch_size=batch_size)"
      ]
    },
    {
      "cell_type": "code",
      "execution_count": 28,
      "id": "5143486d-0490-4de9-b04b-c2f9d221204f",
      "metadata": {
        "id": "5143486d-0490-4de9-b04b-c2f9d221204f"
      },
      "outputs": [],
      "source": [
        "n_users = len(user_encoder.classes_)\n",
        "n_items = len(item_encoder.classes_)\n",
        "n_categories = len(category_encoder.classes_)"
      ]
    },
    {
      "cell_type": "code",
      "execution_count": 29,
      "id": "fdba2ac1-5192-4af5-b78b-9de296aa49d1",
      "metadata": {
        "id": "fdba2ac1-5192-4af5-b78b-9de296aa49d1"
      },
      "outputs": [],
      "source": [
        "model = HybridNCF(n_users, n_items, n_categories, emb_dim=embedding_dim, hidden=hidden_layers).to(device)\n",
        "loss_fn = nn.MSELoss()\n",
        "optimizer = torch.optim.Adam(model.parameters(), lr=learning_rate)"
      ]
    },
    {
      "cell_type": "code",
      "execution_count": 30,
      "id": "cd4ab8f5-91f1-4815-8a08-f1434da4d8b7",
      "metadata": {
        "id": "cd4ab8f5-91f1-4815-8a08-f1434da4d8b7"
      },
      "outputs": [],
      "source": [
        "def precision_recall_at_k(actual, predicted, k):\n",
        "    actual_set = set(actual)\n",
        "    pred_k = predicted[:k]\n",
        "    hits = len(set(pred_k) & actual_set)\n",
        "    precision = hits / k\n",
        "    recall = hits / len(actual_set) if actual_set else 0\n",
        "    return precision, recall"
      ]
    },
    {
      "cell_type": "code",
      "execution_count": 31,
      "id": "979974f7-ddf6-4f84-bfeb-6b34259990ff",
      "metadata": {
        "id": "979974f7-ddf6-4f84-bfeb-6b34259990ff"
      },
      "outputs": [],
      "source": [
        "def dcg_at_k(r, k):\n",
        "    r = np.asfarray(r)[:k]\n",
        "    return np.sum((2 ** r - 1) / np.log2(np.arrange(2, r.size + 2)))"
      ]
    },
    {
      "cell_type": "code",
      "execution_count": 32,
      "id": "4c1ebd22-d2db-4b84-b3ea-d25b87426786",
      "metadata": {
        "id": "4c1ebd22-d2db-4b84-b3ea-d25b87426786"
      },
      "outputs": [],
      "source": [
        "def ndcg_at_k(predicted, actual, k=5):\n",
        "    actual_set = set(actual)\n",
        "    relevance = [1 if item in actual_set else 0 for item in predicted[:k]]\n",
        "    ideal_relevance = sorted(relevance, reverse=True)\n",
        "    dcg = dcg_at_k(relevance, k)\n",
        "    idcg = dcg_at_k(ideal_relevance, k)\n",
        "    return dcg / idcg if idcg > 0 else 0.0"
      ]
    },
    {
      "cell_type": "code",
      "execution_count": 33,
      "id": "593cd1c8-2324-4a56-bc00-1adb4722c5ae",
      "metadata": {
        "id": "593cd1c8-2324-4a56-bc00-1adb4722c5ae"
      },
      "outputs": [],
      "source": [
        "from collections import defaultdict"
      ]
    },
    {
      "cell_type": "code",
      "execution_count": 34,
      "id": "156f01ab-da2d-48d5-a9c2-d70c86724079",
      "metadata": {
        "id": "156f01ab-da2d-48d5-a9c2-d70c86724079"
      },
      "outputs": [],
      "source": [
        "train_losses = []\n",
        "val_losses = []\n",
        "rmse_scores = []\n",
        "mae_scores = []\n",
        "precision_scores = []\n",
        "recall_scores = []\n",
        "ndcg_scores = []"
      ]
    },
    {
      "cell_type": "code",
      "execution_count": 35,
      "id": "a48752fa-767a-48e2-9dc6-0182eef1ff2c",
      "metadata": {
        "id": "a48752fa-767a-48e2-9dc6-0182eef1ff2c"
      },
      "outputs": [],
      "source": [
        "item_id_to_category = dict(zip(test_df['item_id_enc'], test_df['category_encoded']))"
      ]
    },
    {
      "cell_type": "code",
      "execution_count": 36,
      "id": "9a000dce-50fe-422a-b9e9-a258d9f7ccfb",
      "metadata": {
        "id": "9a000dce-50fe-422a-b9e9-a258d9f7ccfb"
      },
      "outputs": [],
      "source": [
        "n_items = test_df['item_id_enc'].max() + 1\n",
        "item_categories = [item_id_to_category.get(i, 0) for i in range(n_items)]"
      ]
    },
    {
      "cell_type": "code",
      "source": [
        "from random import sample"
      ],
      "metadata": {
        "id": "uMGgMJMJvvQF"
      },
      "id": "uMGgMJMJvvQF",
      "execution_count": 37,
      "outputs": []
    },
    {
      "cell_type": "code",
      "execution_count": null,
      "id": "9c132810-e4a0-4bb3-9cbe-9321a444226f",
      "metadata": {
        "id": "9c132810-e4a0-4bb3-9cbe-9321a444226f",
        "colab": {
          "base_uri": "https://localhost:8080/"
        },
        "outputId": "cd660cfd-64a0-4899-c93d-e6438b8fac19"
      },
      "outputs": [
        {
          "output_type": "stream",
          "name": "stderr",
          "text": [
            "Evaluating sampled users: 100%|██████████| 1000/1000 [07:40<00:00,  2.17it/s]\n"
          ]
        },
        {
          "output_type": "stream",
          "name": "stdout",
          "text": [
            "\n",
            "-- Sample User Evaluation --\n",
            "\n",
            "User ID: 91210\n",
            " Ground Truth Items (from test): [62809]\n",
            " Top-5 Predicted Items       : [np.int64(174679), np.int64(148910), np.int64(144683), np.int64(56200), np.int64(38586)]\n",
            " Hits                          : []\n",
            " Precision@5                 : 0.0000\n",
            " Recall@5                    : 0.0000\n",
            "\n",
            "User ID: 38206\n",
            " Ground Truth Items (from test): [17404, 28293, 105085]\n",
            " Top-5 Predicted Items       : [np.int64(140276), np.int64(16664), np.int64(220229), np.int64(136609), np.int64(29674)]\n",
            " Hits                          : []\n",
            " Precision@5                 : 0.0000\n",
            " Recall@5                    : 0.0000\n",
            "\n",
            "User ID: 48427\n",
            " Ground Truth Items (from test): [3133]\n",
            " Top-5 Predicted Items       : [np.int64(126524), np.int64(40003), np.int64(194306), np.int64(126110), np.int64(219204)]\n",
            " Hits                          : []\n",
            " Precision@5                 : 0.0000\n",
            " Recall@5                    : 0.0000\n",
            "\n",
            "User ID: 60302\n",
            " Ground Truth Items (from test): [23847, 43169, 103411, 142372]\n",
            " Top-5 Predicted Items       : [np.int64(144683), np.int64(76228), np.int64(40003), np.int64(140276), np.int64(28597)]\n",
            " Hits                          : []\n",
            " Precision@5                 : 0.0000\n",
            " Recall@5                    : 0.0000\n",
            "\n",
            "User ID: 122584\n",
            " Ground Truth Items (from test): [64074]\n",
            " Top-5 Predicted Items       : [np.int64(185452), np.int64(11751), np.int64(136372), np.int64(249155), np.int64(14772)]\n",
            " Hits                          : []\n",
            " Precision@5                 : 0.0000\n",
            " Recall@5                    : 0.0000\n",
            "\n",
            "Epoch 1/15, Train Loss: 1.7471, Val Loss: 1.5746, RMSE: 1.2548, MAE: 0.8631, Precision@5: 0.0002, Recall@5: 0.0010\n"
          ]
        },
        {
          "output_type": "stream",
          "name": "stderr",
          "text": [
            "Evaluating sampled users: 100%|██████████| 1000/1000 [07:57<00:00,  2.09it/s]\n"
          ]
        },
        {
          "output_type": "stream",
          "name": "stdout",
          "text": [
            "\n",
            "-- Sample User Evaluation --\n",
            "\n",
            "User ID: 103566\n",
            " Ground Truth Items (from test): [135211]\n",
            " Top-5 Predicted Items       : [np.int64(263457), np.int64(120661), np.int64(22845), np.int64(163772), np.int64(53884)]\n",
            " Hits                          : []\n",
            " Precision@5                 : 0.0000\n",
            " Recall@5                    : 0.0000\n",
            "\n",
            "User ID: 137509\n",
            " Ground Truth Items (from test): [207353]\n",
            " Top-5 Predicted Items       : [np.int64(11090), np.int64(25541), np.int64(206937), np.int64(135668), np.int64(14030)]\n",
            " Hits                          : []\n",
            " Precision@5                 : 0.0000\n",
            " Recall@5                    : 0.0000\n",
            "\n",
            "User ID: 121914\n",
            " Ground Truth Items (from test): [69232]\n",
            " Top-5 Predicted Items       : [np.int64(263457), np.int64(27722), np.int64(17763), np.int64(104888), np.int64(219524)]\n",
            " Hits                          : []\n",
            " Precision@5                 : 0.0000\n",
            " Recall@5                    : 0.0000\n",
            "\n",
            "User ID: 1043\n",
            " Ground Truth Items (from test): [11283]\n",
            " Top-5 Predicted Items       : [np.int64(263457), np.int64(15542), np.int64(120661), np.int64(1948), np.int64(76387)]\n",
            " Hits                          : []\n",
            " Precision@5                 : 0.0000\n",
            " Recall@5                    : 0.0000\n",
            "\n",
            "User ID: 154995\n",
            " Ground Truth Items (from test): [89380]\n",
            " Top-5 Predicted Items       : [np.int64(263457), np.int64(84978), np.int64(120661), np.int64(93403), np.int64(77527)]\n",
            " Hits                          : []\n",
            " Precision@5                 : 0.0000\n",
            " Recall@5                    : 0.0000\n",
            "\n",
            "Epoch 2/15, Train Loss: 1.4729, Val Loss: 1.5402, RMSE: 1.2410, MAE: 0.7706, Precision@5: 0.0004, Recall@5: 0.0007\n"
          ]
        },
        {
          "output_type": "stream",
          "name": "stderr",
          "text": [
            "Evaluating sampled users: 100%|██████████| 1000/1000 [08:11<00:00,  2.03it/s]\n"
          ]
        },
        {
          "output_type": "stream",
          "name": "stdout",
          "text": [
            "\n",
            "-- Sample User Evaluation --\n",
            "\n",
            "User ID: 201064\n",
            " Ground Truth Items (from test): [269752]\n",
            " Top-5 Predicted Items       : [np.int64(117296), np.int64(263522), np.int64(82710), np.int64(164339), np.int64(263457)]\n",
            " Hits                          : []\n",
            " Precision@5                 : 0.0000\n",
            " Recall@5                    : 0.0000\n",
            "\n",
            "User ID: 158349\n",
            " Ground Truth Items (from test): [94137]\n",
            " Top-5 Predicted Items       : [np.int64(19156), np.int64(217940), np.int64(27821), np.int64(153161), np.int64(146509)]\n",
            " Hits                          : []\n",
            " Precision@5                 : 0.0000\n",
            " Recall@5                    : 0.0000\n",
            "\n",
            "User ID: 43954\n",
            " Ground Truth Items (from test): [55837]\n",
            " Top-5 Predicted Items       : [np.int64(84285), np.int64(31244), np.int64(244316), np.int64(17763), np.int64(9496)]\n",
            " Hits                          : []\n",
            " Precision@5                 : 0.0000\n",
            " Recall@5                    : 0.0000\n",
            "\n",
            "User ID: 157444\n",
            " Ground Truth Items (from test): [860]\n",
            " Top-5 Predicted Items       : [np.int64(263457), np.int64(53999), np.int64(244316), np.int64(15256), np.int64(80859)]\n",
            " Hits                          : []\n",
            " Precision@5                 : 0.0000\n",
            " Recall@5                    : 0.0000\n",
            "\n",
            "User ID: 1385\n",
            " Ground Truth Items (from test): [160269]\n",
            " Top-5 Predicted Items       : [np.int64(68766), np.int64(99791), np.int64(101524), np.int64(263457), np.int64(204280)]\n",
            " Hits                          : []\n",
            " Precision@5                 : 0.0000\n",
            " Recall@5                    : 0.0000\n",
            "\n",
            "Epoch 3/15, Train Loss: 1.3416, Val Loss: 1.5340, RMSE: 1.2385, MAE: 0.8018, Precision@5: 0.0000, Recall@5: 0.0000\n"
          ]
        },
        {
          "output_type": "stream",
          "name": "stderr",
          "text": [
            "Evaluating sampled users: 100%|██████████| 1000/1000 [08:08<00:00,  2.05it/s]\n"
          ]
        },
        {
          "output_type": "stream",
          "name": "stdout",
          "text": [
            "\n",
            "-- Sample User Evaluation --\n",
            "\n",
            "User ID: 79713\n",
            " Ground Truth Items (from test): [3854]\n",
            " Top-5 Predicted Items       : [np.int64(166665), np.int64(18880), np.int64(228526), np.int64(18388), np.int64(101857)]\n",
            " Hits                          : []\n",
            " Precision@5                 : 0.0000\n",
            " Recall@5                    : 0.0000\n",
            "\n",
            "User ID: 86736\n",
            " Ground Truth Items (from test): [38447]\n",
            " Top-5 Predicted Items       : [np.int64(233941), np.int64(56573), np.int64(159805), np.int64(263457), np.int64(13974)]\n",
            " Hits                          : []\n",
            " Precision@5                 : 0.0000\n",
            " Recall@5                    : 0.0000\n",
            "\n",
            "User ID: 131060\n",
            " Ground Truth Items (from test): [239787]\n",
            " Top-5 Predicted Items       : [np.int64(32405), np.int64(178566), np.int64(188164), np.int64(61998), np.int64(187277)]\n",
            " Hits                          : []\n",
            " Precision@5                 : 0.0000\n",
            " Recall@5                    : 0.0000\n",
            "\n",
            "User ID: 106496\n",
            " Ground Truth Items (from test): [62135]\n",
            " Top-5 Predicted Items       : [np.int64(176919), np.int64(263457), np.int64(110187), np.int64(51578), np.int64(153719)]\n",
            " Hits                          : []\n",
            " Precision@5                 : 0.0000\n",
            " Recall@5                    : 0.0000\n",
            "\n",
            "User ID: 48731\n",
            " Ground Truth Items (from test): [146630]\n",
            " Top-5 Predicted Items       : [np.int64(5463), np.int64(215726), np.int64(124963), np.int64(67958), np.int64(186499)]\n",
            " Hits                          : []\n",
            " Precision@5                 : 0.0000\n",
            " Recall@5                    : 0.0000\n",
            "\n",
            "Epoch 4/15, Train Loss: 1.1990, Val Loss: 1.5781, RMSE: 1.2562, MAE: 0.8503, Precision@5: 0.0000, Recall@5: 0.0000\n"
          ]
        },
        {
          "output_type": "stream",
          "name": "stderr",
          "text": [
            "Evaluating sampled users: 100%|██████████| 1000/1000 [08:18<00:00,  2.00it/s]\n"
          ]
        },
        {
          "output_type": "stream",
          "name": "stdout",
          "text": [
            "\n",
            "-- Sample User Evaluation --\n",
            "\n",
            "User ID: 43368\n",
            " Ground Truth Items (from test): [32406]\n",
            " Top-5 Predicted Items       : [np.int64(217940), np.int64(263522), np.int64(132691), np.int64(95341), np.int64(233941)]\n",
            " Hits                          : []\n",
            " Precision@5                 : 0.0000\n",
            " Recall@5                    : 0.0000\n",
            "\n",
            "User ID: 142979\n",
            " Ground Truth Items (from test): [18447, 20322]\n",
            " Top-5 Predicted Items       : [np.int64(181987), np.int64(93641), np.int64(181486), np.int64(269615), np.int64(85463)]\n",
            " Hits                          : []\n",
            " Precision@5                 : 0.0000\n",
            " Recall@5                    : 0.0000\n",
            "\n",
            "User ID: 35543\n",
            " Ground Truth Items (from test): [56880, 108779]\n",
            " Top-5 Predicted Items       : [np.int64(217940), np.int64(16978), np.int64(86241), np.int64(270019), np.int64(69706)]\n",
            " Hits                          : []\n",
            " Precision@5                 : 0.0000\n",
            " Recall@5                    : 0.0000\n",
            "\n",
            "User ID: 216445\n",
            " Ground Truth Items (from test): [1109]\n",
            " Top-5 Predicted Items       : [np.int64(77038), np.int64(217940), np.int64(146852), np.int64(26594), np.int64(95051)]\n",
            " Hits                          : []\n",
            " Precision@5                 : 0.0000\n",
            " Recall@5                    : 0.0000\n",
            "\n",
            "User ID: 147586\n",
            " Ground Truth Items (from test): [106310]\n",
            " Top-5 Predicted Items       : [np.int64(3783), np.int64(217940), np.int64(2033), np.int64(124963), np.int64(199622)]\n",
            " Hits                          : []\n",
            " Precision@5                 : 0.0000\n",
            " Recall@5                    : 0.0000\n",
            "\n",
            "Epoch 5/15, Train Loss: 1.0162, Val Loss: 1.6783, RMSE: 1.2955, MAE: 0.8537, Precision@5: 0.0000, Recall@5: 0.0000\n"
          ]
        },
        {
          "output_type": "stream",
          "name": "stderr",
          "text": [
            "Evaluating sampled users: 100%|██████████| 1000/1000 [08:14<00:00,  2.02it/s]\n"
          ]
        },
        {
          "output_type": "stream",
          "name": "stdout",
          "text": [
            "\n",
            "-- Sample User Evaluation --\n",
            "\n",
            "User ID: 122579\n",
            " Ground Truth Items (from test): [19099]\n",
            " Top-5 Predicted Items       : [np.int64(72011), np.int64(70809), np.int64(217391), np.int64(167591), np.int64(126650)]\n",
            " Hits                          : []\n",
            " Precision@5                 : 0.0000\n",
            " Recall@5                    : 0.0000\n",
            "\n",
            "User ID: 198692\n",
            " Ground Truth Items (from test): [93763]\n",
            " Top-5 Predicted Items       : [np.int64(166603), np.int64(174680), np.int64(239031), np.int64(186992), np.int64(134052)]\n",
            " Hits                          : []\n",
            " Precision@5                 : 0.0000\n",
            " Recall@5                    : 0.0000\n",
            "\n",
            "User ID: 120391\n",
            " Ground Truth Items (from test): [233906]\n",
            " Top-5 Predicted Items       : [np.int64(61793), np.int64(43435), np.int64(156712), np.int64(183416), np.int64(102099)]\n",
            " Hits                          : []\n",
            " Precision@5                 : 0.0000\n",
            " Recall@5                    : 0.0000\n",
            "\n",
            "User ID: 78401\n",
            " Ground Truth Items (from test): [146830]\n",
            " Top-5 Predicted Items       : [np.int64(26594), np.int64(110187), np.int64(116777), np.int64(89667), np.int64(133929)]\n",
            " Hits                          : []\n",
            " Precision@5                 : 0.0000\n",
            " Recall@5                    : 0.0000\n",
            "\n",
            "User ID: 81083\n",
            " Ground Truth Items (from test): [68081]\n",
            " Top-5 Predicted Items       : [np.int64(270540), np.int64(12396), np.int64(60972), np.int64(63631), np.int64(109989)]\n",
            " Hits                          : []\n",
            " Precision@5                 : 0.0000\n",
            " Recall@5                    : 0.0000\n",
            "\n",
            "Epoch 6/15, Train Loss: 0.8086, Val Loss: 1.8341, RMSE: 1.3543, MAE: 0.8727, Precision@5: 0.0000, Recall@5: 0.0000\n"
          ]
        },
        {
          "output_type": "stream",
          "name": "stderr",
          "text": [
            "Evaluating sampled users: 100%|██████████| 1000/1000 [08:02<00:00,  2.07it/s]\n"
          ]
        },
        {
          "output_type": "stream",
          "name": "stdout",
          "text": [
            "\n",
            "-- Sample User Evaluation --\n",
            "\n",
            "User ID: 210152\n",
            " Ground Truth Items (from test): [180408]\n",
            " Top-5 Predicted Items       : [np.int64(15261), np.int64(32508), np.int64(165988), np.int64(169339), np.int64(16978)]\n",
            " Hits                          : []\n",
            " Precision@5                 : 0.0000\n",
            " Recall@5                    : 0.0000\n",
            "\n",
            "User ID: 246371\n",
            " Ground Truth Items (from test): [43365]\n",
            " Top-5 Predicted Items       : [np.int64(153161), np.int64(84966), np.int64(110187), np.int64(39391), np.int64(33328)]\n",
            " Hits                          : []\n",
            " Precision@5                 : 0.0000\n",
            " Recall@5                    : 0.0000\n",
            "\n",
            "User ID: 132427\n",
            " Ground Truth Items (from test): [17396, 32304]\n",
            " Top-5 Predicted Items       : [np.int64(199038), np.int64(267522), np.int64(223074), np.int64(246745), np.int64(110187)]\n",
            " Hits                          : []\n",
            " Precision@5                 : 0.0000\n",
            " Recall@5                    : 0.0000\n",
            "\n",
            "User ID: 131414\n",
            " Ground Truth Items (from test): [2663, 171334]\n",
            " Top-5 Predicted Items       : [np.int64(77639), np.int64(234647), np.int64(18959), np.int64(249492), np.int64(103563)]\n",
            " Hits                          : []\n",
            " Precision@5                 : 0.0000\n",
            " Recall@5                    : 0.0000\n",
            "\n",
            "User ID: 7385\n",
            " Ground Truth Items (from test): [18326, 28521, 105689]\n",
            " Top-5 Predicted Items       : [np.int64(33328), np.int64(153424), np.int64(9996), np.int64(130794), np.int64(117693)]\n",
            " Hits                          : []\n",
            " Precision@5                 : 0.0000\n",
            " Recall@5                    : 0.0000\n",
            "\n",
            "Epoch 7/15, Train Loss: 0.6513, Val Loss: 1.8126, RMSE: 1.3463, MAE: 0.8526, Precision@5: 0.0000, Recall@5: 0.0000\n"
          ]
        },
        {
          "output_type": "stream",
          "name": "stderr",
          "text": [
            "Evaluating sampled users: 100%|██████████| 1000/1000 [08:06<00:00,  2.06it/s]\n"
          ]
        },
        {
          "output_type": "stream",
          "name": "stdout",
          "text": [
            "\n",
            "-- Sample User Evaluation --\n",
            "\n",
            "User ID: 84195\n",
            " Ground Truth Items (from test): [464, 50215]\n",
            " Top-5 Predicted Items       : [np.int64(164065), np.int64(26171), np.int64(157546), np.int64(4906), np.int64(198243)]\n",
            " Hits                          : []\n",
            " Precision@5                 : 0.0000\n",
            " Recall@5                    : 0.0000\n",
            "\n",
            "User ID: 19420\n",
            " Ground Truth Items (from test): [10157]\n",
            " Top-5 Predicted Items       : [np.int64(179909), np.int64(238749), np.int64(133611), np.int64(174680), np.int64(53067)]\n",
            " Hits                          : []\n",
            " Precision@5                 : 0.0000\n",
            " Recall@5                    : 0.0000\n",
            "\n",
            "User ID: 92111\n",
            " Ground Truth Items (from test): [126491]\n",
            " Top-5 Predicted Items       : [np.int64(197179), np.int64(153424), np.int64(146852), np.int64(15259), np.int64(129635)]\n",
            " Hits                          : []\n",
            " Precision@5                 : 0.0000\n",
            " Recall@5                    : 0.0000\n",
            "\n",
            "User ID: 144684\n",
            " Ground Truth Items (from test): [119432]\n",
            " Top-5 Predicted Items       : [np.int64(9321), np.int64(40059), np.int64(33680), np.int64(71710), np.int64(18959)]\n",
            " Hits                          : []\n",
            " Precision@5                 : 0.0000\n",
            " Recall@5                    : 0.0000\n",
            "\n",
            "User ID: 239766\n",
            " Ground Truth Items (from test): [48555]\n",
            " Top-5 Predicted Items       : [np.int64(199038), np.int64(199622), np.int64(270588), np.int64(183302), np.int64(132326)]\n",
            " Hits                          : []\n",
            " Precision@5                 : 0.0000\n",
            " Recall@5                    : 0.0000\n",
            "\n",
            "Epoch 8/15, Train Loss: 0.5297, Val Loss: 1.9372, RMSE: 1.3918, MAE: 0.8752, Precision@5: 0.0000, Recall@5: 0.0000\n"
          ]
        },
        {
          "output_type": "stream",
          "name": "stderr",
          "text": [
            "Evaluating sampled users: 100%|██████████| 1000/1000 [08:16<00:00,  2.02it/s]\n"
          ]
        },
        {
          "output_type": "stream",
          "name": "stdout",
          "text": [
            "\n",
            "-- Sample User Evaluation --\n",
            "\n",
            "User ID: 128185\n",
            " Ground Truth Items (from test): [96475]\n",
            " Top-5 Predicted Items       : [np.int64(228526), np.int64(199038), np.int64(74731), np.int64(58478), np.int64(63631)]\n",
            " Hits                          : []\n",
            " Precision@5                 : 0.0000\n",
            " Recall@5                    : 0.0000\n",
            "\n",
            "User ID: 55016\n",
            " Ground Truth Items (from test): [9290, 23348, 29711, 39707, 42696, 46945, 56887, 61513, 64457, 75086, 83607, 84010, 97777, 126977, 161051]\n",
            " Top-5 Predicted Items       : [np.int64(78142), np.int64(171784), np.int64(81218), np.int64(170790), np.int64(169522)]\n",
            " Hits                          : []\n",
            " Precision@5                 : 0.0000\n",
            " Recall@5                    : 0.0000\n",
            "\n",
            "User ID: 261905\n",
            " Ground Truth Items (from test): [40448]\n",
            " Top-5 Predicted Items       : [np.int64(199038), np.int64(228526), np.int64(144607), np.int64(109989), np.int64(77038)]\n",
            " Hits                          : []\n",
            " Precision@5                 : 0.0000\n",
            " Recall@5                    : 0.0000\n",
            "\n",
            "User ID: 189875\n",
            " Ground Truth Items (from test): [250046]\n",
            " Top-5 Predicted Items       : [np.int64(110187), np.int64(199038), np.int64(42418), np.int64(46639), np.int64(102019)]\n",
            " Hits                          : []\n",
            " Precision@5                 : 0.0000\n",
            " Recall@5                    : 0.0000\n",
            "\n",
            "User ID: 243387\n",
            " Ground Truth Items (from test): [19394]\n",
            " Top-5 Predicted Items       : [np.int64(77038), np.int64(101197), np.int64(29605), np.int64(63631), np.int64(233892)]\n",
            " Hits                          : []\n",
            " Precision@5                 : 0.0000\n",
            " Recall@5                    : 0.0000\n",
            "\n",
            "Epoch 9/15, Train Loss: 0.4338, Val Loss: 2.0464, RMSE: 1.4305, MAE: 0.9085, Precision@5: 0.0000, Recall@5: 0.0000\n"
          ]
        },
        {
          "output_type": "stream",
          "name": "stderr",
          "text": [
            "Evaluating sampled users: 100%|██████████| 1000/1000 [08:21<00:00,  1.99it/s]\n"
          ]
        },
        {
          "output_type": "stream",
          "name": "stdout",
          "text": [
            "\n",
            "-- Sample User Evaluation --\n",
            "\n",
            "User ID: 45672\n",
            " Ground Truth Items (from test): [14231]\n",
            " Top-5 Predicted Items       : [np.int64(103563), np.int64(101759), np.int64(217940), np.int64(167742), np.int64(193896)]\n",
            " Hits                          : []\n",
            " Precision@5                 : 0.0000\n",
            " Recall@5                    : 0.0000\n",
            "\n",
            "User ID: 58625\n",
            " Ground Truth Items (from test): [615, 9408, 11471, 13240, 17568, 19065, 19765, 37506, 38712, 42690, 45896, 49127, 55379, 56636, 58959, 65880, 76939, 100376, 107185, 107356, 114916, 137433, 149549, 151703, 155231, 163101, 167751, 168142, 212205, 216281, 220331]\n",
            " Top-5 Predicted Items       : [np.int64(160008), np.int64(56204), np.int64(171061), np.int64(130530), np.int64(112493)]\n",
            " Hits                          : []\n",
            " Precision@5                 : 0.0000\n",
            " Recall@5                    : 0.0000\n",
            "\n",
            "User ID: 65721\n",
            " Ground Truth Items (from test): [5534]\n",
            " Top-5 Predicted Items       : [np.int64(227503), np.int64(77038), np.int64(147284), np.int64(270705), np.int64(137060)]\n",
            " Hits                          : []\n",
            " Precision@5                 : 0.0000\n",
            " Recall@5                    : 0.0000\n",
            "\n",
            "User ID: 82463\n",
            " Ground Truth Items (from test): [19385]\n",
            " Top-5 Predicted Items       : [np.int64(46563), np.int64(9321), np.int64(255557), np.int64(270588), np.int64(219094)]\n",
            " Hits                          : []\n",
            " Precision@5                 : 0.0000\n",
            " Recall@5                    : 0.0000\n",
            "\n",
            "User ID: 65784\n",
            " Ground Truth Items (from test): [269262]\n",
            " Top-5 Predicted Items       : [np.int64(54119), np.int64(77038), np.int64(176553), np.int64(16978), np.int64(63631)]\n",
            " Hits                          : []\n",
            " Precision@5                 : 0.0000\n",
            " Recall@5                    : 0.0000\n",
            "\n",
            "Epoch 10/15, Train Loss: 0.3600, Val Loss: 2.1353, RMSE: 1.4612, MAE: 0.9301, Precision@5: 0.0000, Recall@5: 0.0000\n"
          ]
        },
        {
          "output_type": "stream",
          "name": "stderr",
          "text": [
            "Evaluating sampled users: 100%|██████████| 1000/1000 [08:14<00:00,  2.02it/s]\n"
          ]
        },
        {
          "output_type": "stream",
          "name": "stdout",
          "text": [
            "\n",
            "-- Sample User Evaluation --\n",
            "\n",
            "User ID: 243109\n",
            " Ground Truth Items (from test): [4581]\n",
            " Top-5 Predicted Items       : [np.int64(38297), np.int64(153161), np.int64(217881), np.int64(39391), np.int64(160799)]\n",
            " Hits                          : []\n",
            " Precision@5                 : 0.0000\n",
            " Recall@5                    : 0.0000\n",
            "\n",
            "User ID: 81532\n",
            " Ground Truth Items (from test): [860, 33581]\n",
            " Top-5 Predicted Items       : [np.int64(132433), np.int64(35198), np.int64(50469), np.int64(160008), np.int64(228848)]\n",
            " Hits                          : []\n",
            " Precision@5                 : 0.0000\n",
            " Recall@5                    : 0.0000\n",
            "\n",
            "User ID: 133190\n",
            " Ground Truth Items (from test): [48447]\n",
            " Top-5 Predicted Items       : [np.int64(167105), np.int64(224535), np.int64(37714), np.int64(43323), np.int64(12164)]\n",
            " Hits                          : []\n",
            " Precision@5                 : 0.0000\n",
            " Recall@5                    : 0.0000\n",
            "\n",
            "User ID: 39141\n",
            " Ground Truth Items (from test): [108073]\n",
            " Top-5 Predicted Items       : [np.int64(199038), np.int64(268007), np.int64(263538), np.int64(164995), np.int64(170790)]\n",
            " Hits                          : []\n",
            " Precision@5                 : 0.0000\n",
            " Recall@5                    : 0.0000\n",
            "\n",
            "User ID: 24611\n",
            " Ground Truth Items (from test): [56067]\n",
            " Top-5 Predicted Items       : [np.int64(129635), np.int64(192421), np.int64(37739), np.int64(126926), np.int64(171464)]\n",
            " Hits                          : []\n",
            " Precision@5                 : 0.0000\n",
            " Recall@5                    : 0.0000\n",
            "\n",
            "Epoch 11/15, Train Loss: 0.3033, Val Loss: 2.1097, RMSE: 1.4525, MAE: 0.9211, Precision@5: 0.0000, Recall@5: 0.0000\n"
          ]
        },
        {
          "output_type": "stream",
          "name": "stderr",
          "text": [
            "Evaluating sampled users: 100%|██████████| 1000/1000 [08:24<00:00,  1.98it/s]\n"
          ]
        },
        {
          "output_type": "stream",
          "name": "stdout",
          "text": [
            "\n",
            "-- Sample User Evaluation --\n",
            "\n",
            "User ID: 10811\n",
            " Ground Truth Items (from test): [13574, 45776, 76568, 78385, 102415, 159065, 159883, 191733, 202438]\n",
            " Top-5 Predicted Items       : [np.int64(82217), np.int64(123963), np.int64(92038), np.int64(116147), np.int64(214534)]\n",
            " Hits                          : []\n",
            " Precision@5                 : 0.0000\n",
            " Recall@5                    : 0.0000\n",
            "\n",
            "User ID: 22905\n",
            " Ground Truth Items (from test): [36345, 131193, 247286]\n",
            " Top-5 Predicted Items       : [np.int64(82217), np.int64(199038), np.int64(101197), np.int64(33328), np.int64(19012)]\n",
            " Hits                          : []\n",
            " Precision@5                 : 0.0000\n",
            " Recall@5                    : 0.0000\n",
            "\n",
            "User ID: 2857\n",
            " Ground Truth Items (from test): [4864, 11795, 11806, 11909]\n",
            " Top-5 Predicted Items       : [np.int64(31700), np.int64(94934), np.int64(35198), np.int64(23404), np.int64(140024)]\n",
            " Hits                          : []\n",
            " Precision@5                 : 0.0000\n",
            " Recall@5                    : 0.0000\n",
            "\n",
            "User ID: 86899\n",
            " Ground Truth Items (from test): [85282]\n",
            " Top-5 Predicted Items       : [np.int64(110187), np.int64(199717), np.int64(199038), np.int64(223931), np.int64(92467)]\n",
            " Hits                          : []\n",
            " Precision@5                 : 0.0000\n",
            " Recall@5                    : 0.0000\n",
            "\n",
            "User ID: 32951\n",
            " Ground Truth Items (from test): [153693]\n",
            " Top-5 Predicted Items       : [np.int64(146852), np.int64(169104), np.int64(58221), np.int64(101197), np.int64(77038)]\n",
            " Hits                          : []\n",
            " Precision@5                 : 0.0000\n",
            " Recall@5                    : 0.0000\n",
            "\n",
            "Epoch 12/15, Train Loss: 0.2590, Val Loss: 2.2911, RMSE: 1.5136, MAE: 0.9705, Precision@5: 0.0000, Recall@5: 0.0000\n"
          ]
        },
        {
          "output_type": "stream",
          "name": "stderr",
          "text": [
            "Evaluating sampled users: 100%|██████████| 1000/1000 [08:30<00:00,  1.96it/s]\n"
          ]
        },
        {
          "output_type": "stream",
          "name": "stdout",
          "text": [
            "\n",
            "-- Sample User Evaluation --\n",
            "\n",
            "User ID: 36766\n",
            " Ground Truth Items (from test): [69003]\n",
            " Top-5 Predicted Items       : [np.int64(134501), np.int64(196290), np.int64(129635), np.int64(38347), np.int64(262504)]\n",
            " Hits                          : []\n",
            " Precision@5                 : 0.0000\n",
            " Recall@5                    : 0.0000\n",
            "\n",
            "User ID: 3524\n",
            " Ground Truth Items (from test): [4950, 6283, 6466, 13666]\n",
            " Top-5 Predicted Items       : [np.int64(199038), np.int64(73493), np.int64(238816), np.int64(131395), np.int64(119441)]\n",
            " Hits                          : []\n",
            " Precision@5                 : 0.0000\n",
            " Recall@5                    : 0.0000\n",
            "\n",
            "User ID: 83052\n",
            " Ground Truth Items (from test): [106922]\n",
            " Top-5 Predicted Items       : [np.int64(37714), np.int64(5596), np.int64(199592), np.int64(40179), np.int64(79964)]\n",
            " Hits                          : []\n",
            " Precision@5                 : 0.0000\n",
            " Recall@5                    : 0.0000\n",
            "\n",
            "User ID: 30978\n",
            " Ground Truth Items (from test): [1985, 23536, 69152]\n",
            " Top-5 Predicted Items       : [np.int64(137060), np.int64(101197), np.int64(37714), np.int64(270705), np.int64(249492)]\n",
            " Hits                          : []\n",
            " Precision@5                 : 0.0000\n",
            " Recall@5                    : 0.0000\n",
            "\n",
            "User ID: 52471\n",
            " Ground Truth Items (from test): [19220, 20390, 20832, 27386, 34336, 44280, 57831, 106104, 120347, 127182, 148350, 167770, 170771, 193695]\n",
            " Top-5 Predicted Items       : [np.int64(165028), np.int64(244135), np.int64(36727), np.int64(147928), np.int64(146852)]\n",
            " Hits                          : []\n",
            " Precision@5                 : 0.0000\n",
            " Recall@5                    : 0.0000\n",
            "\n",
            "Epoch 13/15, Train Loss: 0.2242, Val Loss: 2.2157, RMSE: 1.4885, MAE: 0.9301, Precision@5: 0.0002, Recall@5: 0.0010\n"
          ]
        },
        {
          "output_type": "stream",
          "name": "stderr",
          "text": [
            "Evaluating sampled users: 100%|██████████| 1000/1000 [08:11<00:00,  2.03it/s]\n"
          ]
        },
        {
          "output_type": "stream",
          "name": "stdout",
          "text": [
            "\n",
            "-- Sample User Evaluation --\n",
            "\n",
            "User ID: 73785\n",
            " Ground Truth Items (from test): [170137]\n",
            " Top-5 Predicted Items       : [np.int64(236831), np.int64(77038), np.int64(19492), np.int64(85108), np.int64(58221)]\n",
            " Hits                          : []\n",
            " Precision@5                 : 0.0000\n",
            " Recall@5                    : 0.0000\n",
            "\n",
            "User ID: 89678\n",
            " Ground Truth Items (from test): [24608, 86241]\n",
            " Top-5 Predicted Items       : [np.int64(199038), np.int64(23661), np.int64(164065), np.int64(132080), np.int64(38297)]\n",
            " Hits                          : []\n",
            " Precision@5                 : 0.0000\n",
            " Recall@5                    : 0.0000\n",
            "\n",
            "User ID: 196774\n",
            " Ground Truth Items (from test): [113714, 183169]\n",
            " Top-5 Predicted Items       : [np.int64(47216), np.int64(16978), np.int64(256213), np.int64(131569), np.int64(22853)]\n",
            " Hits                          : []\n",
            " Precision@5                 : 0.0000\n",
            " Recall@5                    : 0.0000\n",
            "\n",
            "User ID: 257522\n",
            " Ground Truth Items (from test): [20673]\n",
            " Top-5 Predicted Items       : [np.int64(43015), np.int64(125780), np.int64(229520), np.int64(239014), np.int64(82735)]\n",
            " Hits                          : []\n",
            " Precision@5                 : 0.0000\n",
            " Recall@5                    : 0.0000\n",
            "\n",
            "User ID: 181651\n",
            " Ground Truth Items (from test): [72712]\n",
            " Top-5 Predicted Items       : [np.int64(168977), np.int64(120957), np.int64(164065), np.int64(199038), np.int64(110187)]\n",
            " Hits                          : []\n",
            " Precision@5                 : 0.0000\n",
            " Recall@5                    : 0.0000\n",
            "\n",
            "Epoch 14/15, Train Loss: 0.1959, Val Loss: 2.3013, RMSE: 1.5170, MAE: 0.9619, Precision@5: 0.0000, Recall@5: 0.0000\n"
          ]
        },
        {
          "output_type": "stream",
          "name": "stderr",
          "text": [
            "Evaluating sampled users:   8%|▊         | 85/1000 [00:41<07:24,  2.06it/s]"
          ]
        }
      ],
      "source": [
        "for epoch in range(epochs):\n",
        "    model.train()\n",
        "    total_train_loss = 0\n",
        "\n",
        "    for user, item, cat, rating in train_loader:\n",
        "        user, item, cat, rating = user.to(device), item.to(device), cat.to(device), rating.to(device)\n",
        "\n",
        "        pred = model(user, item, cat)\n",
        "        loss = loss_fn(pred, rating)\n",
        "\n",
        "        optimizer.zero_grad()\n",
        "        loss.backward()\n",
        "        optimizer.step()\n",
        "        total_train_loss += loss.item()\n",
        "\n",
        "    avg_train_loss = total_train_loss / len(train_loader)\n",
        "    train_losses.append(avg_train_loss)\n",
        "\n",
        "    # --------------------------------\n",
        "    # Validation and Ranking Metrics\n",
        "    # --------------------------------\n",
        "    model.eval()\n",
        "    total_val_loss = 0\n",
        "    all_preds = []\n",
        "    all_true = []\n",
        "\n",
        "    with torch.no_grad():\n",
        "        for user, item, cat, rating in test_loader:\n",
        "            user, item, cat, rating = user.to(device), item.to(device), cat.to(device), rating.to(device)\n",
        "\n",
        "            pred = model(user, item, cat)\n",
        "            loss = loss_fn(pred, rating)\n",
        "            total_val_loss += loss.item()\n",
        "\n",
        "            all_preds.extend(pred.cpu().numpy())\n",
        "            all_true.extend(rating.cpu().numpy())\n",
        "\n",
        "    avg_val_loss = total_val_loss / len(test_loader)\n",
        "    val_losses.append(avg_val_loss)\n",
        "\n",
        "    # Calculate RMSE and MAE\n",
        "    rmse = root_mean_squared_error(all_true, all_preds)\n",
        "    mae = mean_absolute_error(all_true, all_preds)\n",
        "    rmse_scores.append(rmse)\n",
        "    mae_scores.append(mae)\n",
        "\n",
        "    # --------------------------------------------------\n",
        "    # Ranking Evaluation\n",
        "    # --------------------------------------------------\n",
        "    k = 5\n",
        "    precision_total, recall_total = 0, 0\n",
        "\n",
        "    # Ground truth interactions\n",
        "    user_item_truth = defaultdict(set)\n",
        "    for _, row in test_df.iterrows():\n",
        "        user_item_truth[row['user_id_enc']].add(row['item_id_enc'])\n",
        "\n",
        "    # Subsample users for faster eval\n",
        "    eval_user_count = min(1000, len(user_item_truth))\n",
        "    sampled_users = sample(list(user_item_truth.keys()), eval_user_count)\n",
        "\n",
        "    # Build train interactions (do this once)\n",
        "    user_train_items = defaultdict(set)\n",
        "    for _, row in train_df.iterrows():\n",
        "        user_train_items[row['user_id_enc']].add(row['item_id_enc'])\n",
        "\n",
        "    # Predict top-K items\n",
        "    user_item_scores = defaultdict(dict)\n",
        "    batch_size = 512\n",
        "\n",
        "    with torch.no_grad():\n",
        "        for user in tqdm(sampled_users, desc=\"Evaluating sampled users\"):\n",
        "            user_scores = {}\n",
        "            train_items_for_user = user_train_items.get(user, set())\n",
        "\n",
        "            for start in range(0, n_items, batch_size):\n",
        "                end = min(start + batch_size, n_items)\n",
        "                item_indices = np.arange(start, end)\n",
        "\n",
        "                items_batch = torch.tensor(item_indices, dtype=torch.long, device=device)\n",
        "                user_batch = torch.full((end - start,), user, dtype=torch.long, device=device)\n",
        "                cat_batch = torch.tensor(item_categories[start:end], dtype=torch.long, device=device)\n",
        "\n",
        "                scores_batch = model(user_batch, items_batch, cat_batch).cpu().numpy()\n",
        "\n",
        "                for idx, score in zip(item_indices, scores_batch):\n",
        "                    if idx not in train_items_for_user:\n",
        "                        user_scores[idx] = score\n",
        "\n",
        "            top_k = sorted(user_scores.items(), key=lambda x: x[1], reverse=True)[:k]\n",
        "            user_item_scores[user] = dict(top_k)\n",
        "\n",
        "    # Evaluate top-K predictions\n",
        "    for user in sampled_users:\n",
        "        true_items = user_item_truth[user]\n",
        "        predicted_items = list(user_item_scores[user].keys())\n",
        "        hits = set(predicted_items) & true_items\n",
        "\n",
        "        precision_total += len(hits) / k\n",
        "        recall_total += len(hits) / len(true_items)\n",
        "\n",
        "    avg_precision = precision_total / eval_user_count\n",
        "    avg_recall = recall_total / eval_user_count\n",
        "    precision_scores.append(avg_precision)\n",
        "    recall_scores.append(avg_recall)\n",
        "\n",
        "    # Sample user output\n",
        "    print(\"\\n-- Sample User Evaluation --\")\n",
        "    for user in sampled_users[:5]:\n",
        "        true_items = user_item_truth[user]\n",
        "        predicted_items = list(user_item_scores[user].keys())\n",
        "        hits = set(predicted_items) & true_items\n",
        "\n",
        "        print(f\"\\nUser ID: {user}\")\n",
        "        print(f\" Ground Truth Items (from test): {sorted(true_items)}\")\n",
        "        print(f\" Top-{k} Predicted Items       : {predicted_items}\")\n",
        "        print(f\" Hits                          : {sorted(hits)}\")\n",
        "        print(f\" Precision@{k}                 : {len(hits)/k:.4f}\")\n",
        "        print(f\" Recall@{k}                    : {len(hits)/len(true_items):.4f}\")\n",
        "\n",
        "    print(f\"\\nEpoch {epoch+1}/{epochs}, Train Loss: {avg_train_loss:.4f}, \"\n",
        "          f\"Val Loss: {avg_val_loss:.4f}, RMSE: {rmse:.4f}, MAE: {mae:.4f}, \"\n",
        "          f\"Precision@{k}: {avg_precision:.4f}, Recall@{k}: {avg_recall:.4f}\")\n",
        "\n",
        "    # Log to file\n",
        "    log_path = \"sample_eval_log.txt\"\n",
        "    with open(log_path, \"a\") as f:\n",
        "        f.write(f\"\\nEpoch {epoch + 1}/{epochs}\\n\")\n",
        "        f.write(f\"Train Loss: {avg_train_loss:.4f}, Val Loss: {avg_val_loss:.4f}, \"\n",
        "                f\"RMSE: {rmse:.4f}, MAE: {mae:.4f}, \"\n",
        "                f\"Precision@{k}: {avg_precision:.4f}, Recall@{k}: {avg_recall:.4f}\\n\")\n",
        "\n",
        "        f.write(\"--- Sample User Evaluation ---\\n\")\n",
        "        for user in sampled_users[:5]:\n",
        "            true_items = user_item_truth[user]\n",
        "            predicted_items = list(user_item_scores[user].keys())\n",
        "            hits = set(predicted_items) & true_items\n",
        "\n",
        "            f.write(f\"\\nUser ID: {user}\\n\")\n",
        "            f.write(f\"  Ground Truth Items (from test): {sorted(true_items)}\\n\")\n",
        "            f.write(f\"  Top-{k} Predicted Items       : {predicted_items}\\n\")\n",
        "            f.write(f\"  Hits                          : {sorted(hits)}\\n\")\n",
        "            f.write(f\"  Precision@{k}: {len(hits)/k:.4f}, Recall@{k}: {len(hits)/len(true_items):.4f}\\n\")\n"
      ]
    },
    {
      "cell_type": "code",
      "execution_count": null,
      "id": "fec75274-cfe1-4799-8667-907c85a3cf4d",
      "metadata": {
        "id": "fec75274-cfe1-4799-8667-907c85a3cf4d"
      },
      "outputs": [],
      "source": []
    },
    {
      "cell_type": "markdown",
      "id": "602f05f2-72c0-4a28-bbfa-1c5313492ade",
      "metadata": {
        "id": "602f05f2-72c0-4a28-bbfa-1c5313492ade"
      },
      "source": [
        "##### Loss Visualization"
      ]
    },
    {
      "cell_type": "code",
      "execution_count": null,
      "id": "68ec6b2a-cd41-4f60-a71d-e1eb209b62fe",
      "metadata": {
        "id": "68ec6b2a-cd41-4f60-a71d-e1eb209b62fe"
      },
      "outputs": [],
      "source": [
        "plt.figure(figsize=(10, 5), dpi=200)\n",
        "plt.plot(train_losses, label='Training Loss', marker='o')\n",
        "plt.plot(val_losses, label='Validation Loss', marker='x')\n",
        "plt.plot(rmse_scores, label='RMSE', linestyle='--')\n",
        "plt.plot(mae_scores, label='MAE', linestyle='--')\n",
        "plt.plot(precision_scores, label=f'Precision@{k}', linestyle='-.')\n",
        "plt.plot(recall_scores, label=f'Recall@{k}', linestyle=':')\n",
        "\n",
        "plt.title('HybridNCF Training Progress')\n",
        "plt.xlabel('Epoch')\n",
        "plt.ylabel('MSE Loss')\n",
        "plt.legend()\n",
        "plt.grid(True)\n",
        "plt.tight_layout()\n",
        "plt.show()"
      ]
    },
    {
      "cell_type": "code",
      "execution_count": null,
      "id": "f0211d23-9c5c-4dfc-b556-b520dac7929d",
      "metadata": {
        "id": "f0211d23-9c5c-4dfc-b556-b520dac7929d"
      },
      "outputs": [],
      "source": [
        "recall_scores"
      ]
    },
    {
      "cell_type": "code",
      "execution_count": null,
      "id": "095f8f42-64b9-4e2e-b423-776f563c8d1c",
      "metadata": {
        "id": "095f8f42-64b9-4e2e-b423-776f563c8d1c"
      },
      "outputs": [],
      "source": [
        "print(f\"Final RMSE: {(sum(rmse_scores) / len(rmse_scores)):.4f}\")\n",
        "print(f\"Final MAE: {(sum(mae_scores) / len(mae_scores)):.4f}\")\n",
        "print(f\"Final Precision@{k}: {(sum(precision_scores) / len(precision_scores)):.4f}\")\n",
        "print(f\"Final Recall@{k}: {(sum(recall_scores) / len(recall_scores)):.4f}\")"
      ]
    },
    {
      "cell_type": "markdown",
      "id": "08f4acec-aed2-4391-9a75-a6f7389d2e55",
      "metadata": {
        "id": "08f4acec-aed2-4391-9a75-a6f7389d2e55"
      },
      "source": [
        "##### Top-N Recommendation with Full Meal Info"
      ]
    },
    {
      "cell_type": "code",
      "execution_count": null,
      "id": "783caf97-d29d-4643-932d-f5e94337190e",
      "metadata": {
        "id": "783caf97-d29d-4643-932d-f5e94337190e"
      },
      "outputs": [],
      "source": [
        "def recommend_top_n(user_id_val, model, n):\n",
        "    model.eval()\n",
        "\n",
        "    if user_id_val not in user_encoder.classes_:\n",
        "        raise ValueError(f\"User ID {user_id_val} not in training data\")\n",
        "\n",
        "    user_id = user_encoder.transform([user_id_val])[0]\n",
        "    user_tensor = torch.tensor([user_id] * n_items, dtype=torch.long).to(device)\n",
        "\n",
        "    item_indices = np.arange(n_items)\n",
        "    item_tensor = torch.tensor(item_indices, dtype=torch.long).to(device)\n",
        "    recipe_ids = item_encoder.inverse_transform(item_indices)\n",
        "\n",
        "    recipe_info = recipes_df[['recipe_id', 'RecipeCategory', 'Name', 'RecipeIngredientParts', 'RecipeInstructions']].copy()\n",
        "    recipe_info['RecipeCategory'] = recipe_info['RecipeCategory'].fillna('Unknown')\n",
        "\n",
        "    # Mapping known categories, assigning 'Unknown' for unseen categories\n",
        "    known_categories = set(category_encoder.classes_)\n",
        "    recipe_info['SafeCategory'] = recipe_info['RecipeCategory'].apply(\n",
        "        lambda x: x if x in known_categories else 'Unknown'\n",
        "    )\n",
        "    recipe_info['category_encoded'] = category_encoder.transform(recipe_info['SafeCategory'])\n",
        "\n",
        "    category_encoded = []\n",
        "    for rid in recipe_ids:\n",
        "        row = recipe_info[recipe_info['recipe_id'] == rid]\n",
        "        category_encoded.append(row['category_encoded'].values[0] if not row.empty else 0)\n",
        "\n",
        "    category_tensor = torch.tensor(category_encoded, dtype=torch.long).to(device)\n",
        "\n",
        "    with torch.no_grad():\n",
        "        scores = model(user_tensor, item_tensor, category_tensor)\n",
        "        top_indices = torch.topk(scores, n).indices.cpu().numpy()\n",
        "\n",
        "    top_recipes = []\n",
        "    for idx in top_indices:\n",
        "        rid = recipe_ids[idx]\n",
        "        recipe_row = recipe_info[recipe_info['recipe_id'] == rid].iloc[0]\n",
        "        top_recipes.append({\n",
        "            \"recipe_id\": recipe_row['recipe_id'],\n",
        "            \"name\": recipe_row['Name'],\n",
        "            \"ingredients\": recipe_row['RecipeIngredientParts'],\n",
        "            \"instructions\": recipe_row['RecipeInstructions']\n",
        "        })\n",
        "\n",
        "    return top_recipes"
      ]
    },
    {
      "cell_type": "code",
      "execution_count": null,
      "id": "def257f5-cbd8-414a-b165-704614196314",
      "metadata": {
        "id": "def257f5-cbd8-414a-b165-704614196314"
      },
      "outputs": [],
      "source": [
        "from collections import defaultdict"
      ]
    },
    {
      "cell_type": "code",
      "execution_count": null,
      "id": "d6684bc0-d261-46a5-b462-a47af95d6110",
      "metadata": {
        "id": "d6684bc0-d261-46a5-b462-a47af95d6110"
      },
      "outputs": [],
      "source": [
        "# Creating dictionary: user_id -> list of recipe_ids they interacted with in test set\n",
        "test_interactions = defaultdict(list)"
      ]
    },
    {
      "cell_type": "code",
      "execution_count": null,
      "id": "d536bc9e-4b95-4bc6-82d0-3e42c4f9e113",
      "metadata": {
        "id": "d536bc9e-4b95-4bc6-82d0-3e42c4f9e113"
      },
      "outputs": [],
      "source": [
        "for _, row in test_df.iterrows():\n",
        "    test_interactions[row['user_id']].append(row['recipe_id'])"
      ]
    },
    {
      "cell_type": "code",
      "execution_count": null,
      "id": "63481dfc-b7fb-4eba-95cd-30879192f0d5",
      "metadata": {
        "id": "63481dfc-b7fb-4eba-95cd-30879192f0d5"
      },
      "outputs": [],
      "source": [
        "# Converting to plain dict and getting uniques test users\n",
        "test_interactions = dict(test_interactions)\n",
        "test_users = list(test_interactions.keys())"
      ]
    },
    {
      "cell_type": "markdown",
      "id": "50faec00-72ae-4ec4-ab9d-bcbea17560d4",
      "metadata": {
        "id": "50faec00-72ae-4ec4-ab9d-bcbea17560d4"
      },
      "source": [
        "##### Example for User"
      ]
    },
    {
      "cell_type": "code",
      "execution_count": null,
      "id": "c253d31a-101d-4cd7-aa88-3854005bdf90",
      "metadata": {
        "id": "c253d31a-101d-4cd7-aa88-3854005bdf90"
      },
      "outputs": [],
      "source": [
        "test_df['user_id'].head(15)"
      ]
    },
    {
      "cell_type": "code",
      "execution_count": null,
      "id": "d735e701-ff7e-4bb8-bc83-f40ac02df5e8",
      "metadata": {
        "id": "d735e701-ff7e-4bb8-bc83-f40ac02df5e8"
      },
      "outputs": [],
      "source": [
        "ndcg_scores = []"
      ]
    },
    {
      "cell_type": "code",
      "execution_count": null,
      "id": "e66d4ce6-b07b-4449-b2ce-7773eaf828f7",
      "metadata": {
        "id": "e66d4ce6-b07b-4449-b2ce-7773eaf828f7"
      },
      "outputs": [],
      "source": [
        "user_id = 358698\n",
        "n = 5\n",
        "\n",
        "for user_id in test_users:\n",
        "    if user_id not in test_interactions:\n",
        "        continue\n",
        "    try:\n",
        "        recommendations = recommend_top_n(user_id, model, n=n)\n",
        "    except ValueError:\n",
        "        continue\n",
        "\n",
        "\n",
        "    predicted_ids = [rec[\"recipe_id\"] for rec in recommendations]\n",
        "    actual_ids = test_interactions[user_id]\n",
        "\n",
        "    ndcg = ndcg_at_k(predicted_ids, actual_ids, k=5)\n",
        "    ndcg_scores.append(ndcg)\n",
        "\n",
        "average_ndcg = np.mean(ndcg_scores)\n",
        "print(f\"Average NDCG@{n}: {average_ndcg:.4f}\")"
      ]
    },
    {
      "cell_type": "code",
      "execution_count": null,
      "id": "0843b7a8-86cb-4984-9294-cbb0bf6ea80c",
      "metadata": {
        "id": "0843b7a8-86cb-4984-9294-cbb0bf6ea80c"
      },
      "outputs": [],
      "source": [
        "for i, rec in enumerate(recommendations, 1):\n",
        "    print(f\"\\n📌 Recommendation {i}: {rec['name']}\")\n",
        "    print(f\"📝 Ingredients: {rec['ingredients']}\")\n",
        "    print(f\"📖 Instructions: {rec['instructions']}\")"
      ]
    },
    {
      "cell_type": "markdown",
      "id": "9b1349fb-00ec-41bd-b710-4db76a5db5f3",
      "metadata": {
        "id": "9b1349fb-00ec-41bd-b710-4db76a5db5f3"
      },
      "source": [
        "##### Saving the Trained Model"
      ]
    },
    {
      "cell_type": "code",
      "execution_count": null,
      "id": "07f36cd4-2531-46b2-85fc-9196a14e77a6",
      "metadata": {
        "id": "07f36cd4-2531-46b2-85fc-9196a14e77a6"
      },
      "outputs": [],
      "source": [
        "torch.save({\n",
        "    'model_state_dict': model.state_dict(),\n",
        "    'user_encoder': user_encoder,\n",
        "    'item_encoder': item_encoder,\n",
        "    'category_encoder': category_encoder,\n",
        "    'recipes_df': recipes_df,\n",
        "    'embedding_dim': embedding_dim,\n",
        "    'hidden_layers': hidden_layers\n",
        "}, 'hybrid_food_recommender.pth')"
      ]
    },
    {
      "cell_type": "code",
      "execution_count": null,
      "id": "3e611cca-72f1-4a61-a10b-0ae6b790c5d2",
      "metadata": {
        "id": "3e611cca-72f1-4a61-a10b-0ae6b790c5d2"
      },
      "outputs": [],
      "source": []
    }
  ],
  "metadata": {
    "kernelspec": {
      "display_name": "Python 3",
      "name": "python3"
    },
    "language_info": {
      "codemirror_mode": {
        "name": "ipython",
        "version": 3
      },
      "file_extension": ".py",
      "mimetype": "text/x-python",
      "name": "python",
      "nbconvert_exporter": "python",
      "pygments_lexer": "ipython3",
      "version": "3.11.9"
    },
    "colab": {
      "provenance": [],
      "machine_shape": "hm",
      "gpuType": "V6E1"
    },
    "accelerator": "TPU"
  },
  "nbformat": 4,
  "nbformat_minor": 5
}